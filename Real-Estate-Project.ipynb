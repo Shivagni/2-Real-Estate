{
 "cells": [
  {
   "cell_type": "markdown",
   "id": "35568cf8-c8e0-40ca-8715-2bd1c1a30319",
   "metadata": {},
   "source": [
    "It is a Regression project."
   ]
  },
  {
   "cell_type": "code",
   "execution_count": 1,
   "id": "c85b9347-4c16-4b63-9910-ee0561d1450f",
   "metadata": {},
   "outputs": [
    {
     "name": "stdout",
     "output_type": "stream",
     "text": [
      "All Library imported\n"
     ]
    }
   ],
   "source": [
    "# import the library\n",
    "\n",
    "import pandas as pd\n",
    "import numpy as np\n",
    "import matplotlib.pyplot as plt\n",
    "import seaborn as sns\n",
    "print('All Library imported')\n",
    "\n",
    "import warnings\n",
    "warnings.filterwarnings(\"ignore\")"
   ]
  },
  {
   "cell_type": "code",
   "execution_count": 2,
   "id": "2d375bb3-cdec-454c-972e-9b1f469f971d",
   "metadata": {},
   "outputs": [],
   "source": [
    "# 1. Import the dataset\n",
    "\n",
    "df_train = pd.read_csv('train.csv')\n",
    "df_test = pd.read_csv('test.csv')"
   ]
  },
  {
   "cell_type": "code",
   "execution_count": 3,
   "id": "ced91294-5098-46c6-af61-9c1f58ea73fe",
   "metadata": {},
   "outputs": [
    {
     "data": {
      "text/plain": [
       "(27321, 80)"
      ]
     },
     "execution_count": 3,
     "metadata": {},
     "output_type": "execute_result"
    }
   ],
   "source": [
    "df_train.shape"
   ]
  },
  {
   "cell_type": "code",
   "execution_count": 4,
   "id": "a3eabf06-5dbc-4ca0-894b-e9c6773d44c1",
   "metadata": {},
   "outputs": [
    {
     "data": {
      "text/plain": [
       "(11709, 80)"
      ]
     },
     "execution_count": 4,
     "metadata": {},
     "output_type": "execute_result"
    }
   ],
   "source": [
    "df_test.shape"
   ]
  },
  {
   "cell_type": "code",
   "execution_count": 5,
   "id": "c4b546ca-0a86-44cd-adb2-aea3f089a8df",
   "metadata": {},
   "outputs": [
    {
     "data": {
      "text/html": [
       "<div>\n",
       "<style scoped>\n",
       "    .dataframe tbody tr th:only-of-type {\n",
       "        vertical-align: middle;\n",
       "    }\n",
       "\n",
       "    .dataframe tbody tr th {\n",
       "        vertical-align: top;\n",
       "    }\n",
       "\n",
       "    .dataframe thead th {\n",
       "        text-align: right;\n",
       "    }\n",
       "</style>\n",
       "<table border=\"1\" class=\"dataframe\">\n",
       "  <thead>\n",
       "    <tr style=\"text-align: right;\">\n",
       "      <th></th>\n",
       "      <th>UID</th>\n",
       "      <th>BLOCKID</th>\n",
       "      <th>SUMLEVEL</th>\n",
       "      <th>COUNTYID</th>\n",
       "      <th>STATEID</th>\n",
       "      <th>state</th>\n",
       "      <th>state_ab</th>\n",
       "      <th>city</th>\n",
       "      <th>place</th>\n",
       "      <th>type</th>\n",
       "      <th>...</th>\n",
       "      <th>female_age_mean</th>\n",
       "      <th>female_age_median</th>\n",
       "      <th>female_age_stdev</th>\n",
       "      <th>female_age_sample_weight</th>\n",
       "      <th>female_age_samples</th>\n",
       "      <th>pct_own</th>\n",
       "      <th>married</th>\n",
       "      <th>married_snp</th>\n",
       "      <th>separated</th>\n",
       "      <th>divorced</th>\n",
       "    </tr>\n",
       "  </thead>\n",
       "  <tbody>\n",
       "    <tr>\n",
       "      <th>0</th>\n",
       "      <td>267822</td>\n",
       "      <td>NaN</td>\n",
       "      <td>140</td>\n",
       "      <td>53</td>\n",
       "      <td>36</td>\n",
       "      <td>New York</td>\n",
       "      <td>NY</td>\n",
       "      <td>Hamilton</td>\n",
       "      <td>Hamilton</td>\n",
       "      <td>City</td>\n",
       "      <td>...</td>\n",
       "      <td>44.48629</td>\n",
       "      <td>45.33333</td>\n",
       "      <td>22.51276</td>\n",
       "      <td>685.33845</td>\n",
       "      <td>2618.0</td>\n",
       "      <td>0.79046</td>\n",
       "      <td>0.57851</td>\n",
       "      <td>0.01882</td>\n",
       "      <td>0.01240</td>\n",
       "      <td>0.08770</td>\n",
       "    </tr>\n",
       "    <tr>\n",
       "      <th>1</th>\n",
       "      <td>246444</td>\n",
       "      <td>NaN</td>\n",
       "      <td>140</td>\n",
       "      <td>141</td>\n",
       "      <td>18</td>\n",
       "      <td>Indiana</td>\n",
       "      <td>IN</td>\n",
       "      <td>South Bend</td>\n",
       "      <td>Roseland</td>\n",
       "      <td>City</td>\n",
       "      <td>...</td>\n",
       "      <td>36.48391</td>\n",
       "      <td>37.58333</td>\n",
       "      <td>23.43353</td>\n",
       "      <td>267.23367</td>\n",
       "      <td>1284.0</td>\n",
       "      <td>0.52483</td>\n",
       "      <td>0.34886</td>\n",
       "      <td>0.01426</td>\n",
       "      <td>0.01426</td>\n",
       "      <td>0.09030</td>\n",
       "    </tr>\n",
       "    <tr>\n",
       "      <th>2</th>\n",
       "      <td>245683</td>\n",
       "      <td>NaN</td>\n",
       "      <td>140</td>\n",
       "      <td>63</td>\n",
       "      <td>18</td>\n",
       "      <td>Indiana</td>\n",
       "      <td>IN</td>\n",
       "      <td>Danville</td>\n",
       "      <td>Danville</td>\n",
       "      <td>City</td>\n",
       "      <td>...</td>\n",
       "      <td>42.15810</td>\n",
       "      <td>42.83333</td>\n",
       "      <td>23.94119</td>\n",
       "      <td>707.01963</td>\n",
       "      <td>3238.0</td>\n",
       "      <td>0.85331</td>\n",
       "      <td>0.64745</td>\n",
       "      <td>0.02830</td>\n",
       "      <td>0.01607</td>\n",
       "      <td>0.10657</td>\n",
       "    </tr>\n",
       "    <tr>\n",
       "      <th>3</th>\n",
       "      <td>279653</td>\n",
       "      <td>NaN</td>\n",
       "      <td>140</td>\n",
       "      <td>127</td>\n",
       "      <td>72</td>\n",
       "      <td>Puerto Rico</td>\n",
       "      <td>PR</td>\n",
       "      <td>San Juan</td>\n",
       "      <td>Guaynabo</td>\n",
       "      <td>Urban</td>\n",
       "      <td>...</td>\n",
       "      <td>47.77526</td>\n",
       "      <td>50.58333</td>\n",
       "      <td>24.32015</td>\n",
       "      <td>362.20193</td>\n",
       "      <td>1559.0</td>\n",
       "      <td>0.65037</td>\n",
       "      <td>0.47257</td>\n",
       "      <td>0.02021</td>\n",
       "      <td>0.02021</td>\n",
       "      <td>0.10106</td>\n",
       "    </tr>\n",
       "    <tr>\n",
       "      <th>4</th>\n",
       "      <td>247218</td>\n",
       "      <td>NaN</td>\n",
       "      <td>140</td>\n",
       "      <td>161</td>\n",
       "      <td>20</td>\n",
       "      <td>Kansas</td>\n",
       "      <td>KS</td>\n",
       "      <td>Manhattan</td>\n",
       "      <td>Manhattan City</td>\n",
       "      <td>City</td>\n",
       "      <td>...</td>\n",
       "      <td>24.17693</td>\n",
       "      <td>21.58333</td>\n",
       "      <td>11.10484</td>\n",
       "      <td>1854.48652</td>\n",
       "      <td>3051.0</td>\n",
       "      <td>0.13046</td>\n",
       "      <td>0.12356</td>\n",
       "      <td>0.00000</td>\n",
       "      <td>0.00000</td>\n",
       "      <td>0.03109</td>\n",
       "    </tr>\n",
       "  </tbody>\n",
       "</table>\n",
       "<p>5 rows × 80 columns</p>\n",
       "</div>"
      ],
      "text/plain": [
       "      UID  BLOCKID  SUMLEVEL  COUNTYID  STATEID        state state_ab  \\\n",
       "0  267822      NaN       140        53       36     New York       NY   \n",
       "1  246444      NaN       140       141       18      Indiana       IN   \n",
       "2  245683      NaN       140        63       18      Indiana       IN   \n",
       "3  279653      NaN       140       127       72  Puerto Rico       PR   \n",
       "4  247218      NaN       140       161       20       Kansas       KS   \n",
       "\n",
       "         city           place   type  ... female_age_mean  female_age_median  \\\n",
       "0    Hamilton        Hamilton   City  ...        44.48629           45.33333   \n",
       "1  South Bend        Roseland   City  ...        36.48391           37.58333   \n",
       "2    Danville        Danville   City  ...        42.15810           42.83333   \n",
       "3    San Juan        Guaynabo  Urban  ...        47.77526           50.58333   \n",
       "4   Manhattan  Manhattan City   City  ...        24.17693           21.58333   \n",
       "\n",
       "   female_age_stdev  female_age_sample_weight  female_age_samples  pct_own  \\\n",
       "0          22.51276                 685.33845              2618.0  0.79046   \n",
       "1          23.43353                 267.23367              1284.0  0.52483   \n",
       "2          23.94119                 707.01963              3238.0  0.85331   \n",
       "3          24.32015                 362.20193              1559.0  0.65037   \n",
       "4          11.10484                1854.48652              3051.0  0.13046   \n",
       "\n",
       "   married  married_snp  separated  divorced  \n",
       "0  0.57851      0.01882    0.01240   0.08770  \n",
       "1  0.34886      0.01426    0.01426   0.09030  \n",
       "2  0.64745      0.02830    0.01607   0.10657  \n",
       "3  0.47257      0.02021    0.02021   0.10106  \n",
       "4  0.12356      0.00000    0.00000   0.03109  \n",
       "\n",
       "[5 rows x 80 columns]"
      ]
     },
     "execution_count": 5,
     "metadata": {},
     "output_type": "execute_result"
    }
   ],
   "source": [
    "df_train.head()"
   ]
  },
  {
   "cell_type": "code",
   "execution_count": 6,
   "id": "029f8d08-5477-4a12-8186-6dce985e0825",
   "metadata": {},
   "outputs": [
    {
     "data": {
      "text/html": [
       "<div>\n",
       "<style scoped>\n",
       "    .dataframe tbody tr th:only-of-type {\n",
       "        vertical-align: middle;\n",
       "    }\n",
       "\n",
       "    .dataframe tbody tr th {\n",
       "        vertical-align: top;\n",
       "    }\n",
       "\n",
       "    .dataframe thead th {\n",
       "        text-align: right;\n",
       "    }\n",
       "</style>\n",
       "<table border=\"1\" class=\"dataframe\">\n",
       "  <thead>\n",
       "    <tr style=\"text-align: right;\">\n",
       "      <th></th>\n",
       "      <th>UID</th>\n",
       "      <th>BLOCKID</th>\n",
       "      <th>SUMLEVEL</th>\n",
       "      <th>COUNTYID</th>\n",
       "      <th>STATEID</th>\n",
       "      <th>state</th>\n",
       "      <th>state_ab</th>\n",
       "      <th>city</th>\n",
       "      <th>place</th>\n",
       "      <th>type</th>\n",
       "      <th>...</th>\n",
       "      <th>female_age_mean</th>\n",
       "      <th>female_age_median</th>\n",
       "      <th>female_age_stdev</th>\n",
       "      <th>female_age_sample_weight</th>\n",
       "      <th>female_age_samples</th>\n",
       "      <th>pct_own</th>\n",
       "      <th>married</th>\n",
       "      <th>married_snp</th>\n",
       "      <th>separated</th>\n",
       "      <th>divorced</th>\n",
       "    </tr>\n",
       "  </thead>\n",
       "  <tbody>\n",
       "    <tr>\n",
       "      <th>0</th>\n",
       "      <td>255504</td>\n",
       "      <td>NaN</td>\n",
       "      <td>140</td>\n",
       "      <td>163</td>\n",
       "      <td>26</td>\n",
       "      <td>Michigan</td>\n",
       "      <td>MI</td>\n",
       "      <td>Detroit</td>\n",
       "      <td>Dearborn Heights City</td>\n",
       "      <td>CDP</td>\n",
       "      <td>...</td>\n",
       "      <td>34.78682</td>\n",
       "      <td>33.75000</td>\n",
       "      <td>21.58531</td>\n",
       "      <td>416.48097</td>\n",
       "      <td>1938.0</td>\n",
       "      <td>0.70252</td>\n",
       "      <td>0.28217</td>\n",
       "      <td>0.05910</td>\n",
       "      <td>0.03813</td>\n",
       "      <td>0.14299</td>\n",
       "    </tr>\n",
       "    <tr>\n",
       "      <th>1</th>\n",
       "      <td>252676</td>\n",
       "      <td>NaN</td>\n",
       "      <td>140</td>\n",
       "      <td>1</td>\n",
       "      <td>23</td>\n",
       "      <td>Maine</td>\n",
       "      <td>ME</td>\n",
       "      <td>Auburn</td>\n",
       "      <td>Auburn City</td>\n",
       "      <td>City</td>\n",
       "      <td>...</td>\n",
       "      <td>44.23451</td>\n",
       "      <td>46.66667</td>\n",
       "      <td>22.37036</td>\n",
       "      <td>532.03505</td>\n",
       "      <td>1950.0</td>\n",
       "      <td>0.85128</td>\n",
       "      <td>0.64221</td>\n",
       "      <td>0.02338</td>\n",
       "      <td>0.00000</td>\n",
       "      <td>0.13377</td>\n",
       "    </tr>\n",
       "    <tr>\n",
       "      <th>2</th>\n",
       "      <td>276314</td>\n",
       "      <td>NaN</td>\n",
       "      <td>140</td>\n",
       "      <td>15</td>\n",
       "      <td>42</td>\n",
       "      <td>Pennsylvania</td>\n",
       "      <td>PA</td>\n",
       "      <td>Pine City</td>\n",
       "      <td>Millerton</td>\n",
       "      <td>Borough</td>\n",
       "      <td>...</td>\n",
       "      <td>41.62426</td>\n",
       "      <td>44.50000</td>\n",
       "      <td>22.86213</td>\n",
       "      <td>453.11959</td>\n",
       "      <td>1879.0</td>\n",
       "      <td>0.81897</td>\n",
       "      <td>0.59961</td>\n",
       "      <td>0.01746</td>\n",
       "      <td>0.01358</td>\n",
       "      <td>0.10026</td>\n",
       "    </tr>\n",
       "    <tr>\n",
       "      <th>3</th>\n",
       "      <td>248614</td>\n",
       "      <td>NaN</td>\n",
       "      <td>140</td>\n",
       "      <td>231</td>\n",
       "      <td>21</td>\n",
       "      <td>Kentucky</td>\n",
       "      <td>KY</td>\n",
       "      <td>Monticello</td>\n",
       "      <td>Monticello City</td>\n",
       "      <td>City</td>\n",
       "      <td>...</td>\n",
       "      <td>44.81200</td>\n",
       "      <td>48.00000</td>\n",
       "      <td>21.03155</td>\n",
       "      <td>263.94320</td>\n",
       "      <td>1081.0</td>\n",
       "      <td>0.84609</td>\n",
       "      <td>0.56953</td>\n",
       "      <td>0.05492</td>\n",
       "      <td>0.04694</td>\n",
       "      <td>0.12489</td>\n",
       "    </tr>\n",
       "    <tr>\n",
       "      <th>4</th>\n",
       "      <td>286865</td>\n",
       "      <td>NaN</td>\n",
       "      <td>140</td>\n",
       "      <td>355</td>\n",
       "      <td>48</td>\n",
       "      <td>Texas</td>\n",
       "      <td>TX</td>\n",
       "      <td>Corpus Christi</td>\n",
       "      <td>Edroy</td>\n",
       "      <td>Town</td>\n",
       "      <td>...</td>\n",
       "      <td>40.66618</td>\n",
       "      <td>42.66667</td>\n",
       "      <td>21.30900</td>\n",
       "      <td>709.90829</td>\n",
       "      <td>2956.0</td>\n",
       "      <td>0.79077</td>\n",
       "      <td>0.57620</td>\n",
       "      <td>0.01726</td>\n",
       "      <td>0.00588</td>\n",
       "      <td>0.16379</td>\n",
       "    </tr>\n",
       "  </tbody>\n",
       "</table>\n",
       "<p>5 rows × 80 columns</p>\n",
       "</div>"
      ],
      "text/plain": [
       "      UID  BLOCKID  SUMLEVEL  COUNTYID  STATEID         state state_ab  \\\n",
       "0  255504      NaN       140       163       26      Michigan       MI   \n",
       "1  252676      NaN       140         1       23         Maine       ME   \n",
       "2  276314      NaN       140        15       42  Pennsylvania       PA   \n",
       "3  248614      NaN       140       231       21      Kentucky       KY   \n",
       "4  286865      NaN       140       355       48         Texas       TX   \n",
       "\n",
       "             city                  place     type  ... female_age_mean  \\\n",
       "0         Detroit  Dearborn Heights City      CDP  ...        34.78682   \n",
       "1          Auburn            Auburn City     City  ...        44.23451   \n",
       "2       Pine City              Millerton  Borough  ...        41.62426   \n",
       "3      Monticello        Monticello City     City  ...        44.81200   \n",
       "4  Corpus Christi                  Edroy     Town  ...        40.66618   \n",
       "\n",
       "   female_age_median  female_age_stdev  female_age_sample_weight  \\\n",
       "0           33.75000          21.58531                 416.48097   \n",
       "1           46.66667          22.37036                 532.03505   \n",
       "2           44.50000          22.86213                 453.11959   \n",
       "3           48.00000          21.03155                 263.94320   \n",
       "4           42.66667          21.30900                 709.90829   \n",
       "\n",
       "   female_age_samples  pct_own  married  married_snp  separated  divorced  \n",
       "0              1938.0  0.70252  0.28217      0.05910    0.03813   0.14299  \n",
       "1              1950.0  0.85128  0.64221      0.02338    0.00000   0.13377  \n",
       "2              1879.0  0.81897  0.59961      0.01746    0.01358   0.10026  \n",
       "3              1081.0  0.84609  0.56953      0.05492    0.04694   0.12489  \n",
       "4              2956.0  0.79077  0.57620      0.01726    0.00588   0.16379  \n",
       "\n",
       "[5 rows x 80 columns]"
      ]
     },
     "execution_count": 6,
     "metadata": {},
     "output_type": "execute_result"
    }
   ],
   "source": [
    "df_test.head()"
   ]
  },
  {
   "cell_type": "code",
   "execution_count": 7,
   "id": "8e3cd004-b4b9-4be8-b0d6-714426f91748",
   "metadata": {
    "tags": []
   },
   "outputs": [
    {
     "name": "stdout",
     "output_type": "stream",
     "text": [
      "<class 'pandas.core.frame.DataFrame'>\n",
      "RangeIndex: 27321 entries, 0 to 27320\n",
      "Data columns (total 80 columns):\n",
      " #   Column                       Non-Null Count  Dtype  \n",
      "---  ------                       --------------  -----  \n",
      " 0   UID                          27321 non-null  int64  \n",
      " 1   BLOCKID                      0 non-null      float64\n",
      " 2   SUMLEVEL                     27321 non-null  int64  \n",
      " 3   COUNTYID                     27321 non-null  int64  \n",
      " 4   STATEID                      27321 non-null  int64  \n",
      " 5   state                        27321 non-null  object \n",
      " 6   state_ab                     27321 non-null  object \n",
      " 7   city                         27321 non-null  object \n",
      " 8   place                        27321 non-null  object \n",
      " 9   type                         27321 non-null  object \n",
      " 10  primary                      27321 non-null  object \n",
      " 11  zip_code                     27321 non-null  int64  \n",
      " 12  area_code                    27321 non-null  int64  \n",
      " 13  lat                          27321 non-null  float64\n",
      " 14  lng                          27321 non-null  float64\n",
      " 15  ALand                        27321 non-null  float64\n",
      " 16  AWater                       27321 non-null  int64  \n",
      " 17  pop                          27321 non-null  int64  \n",
      " 18  male_pop                     27321 non-null  int64  \n",
      " 19  female_pop                   27321 non-null  int64  \n",
      " 20  rent_mean                    27007 non-null  float64\n",
      " 21  rent_median                  27007 non-null  float64\n",
      " 22  rent_stdev                   27007 non-null  float64\n",
      " 23  rent_sample_weight           27007 non-null  float64\n",
      " 24  rent_samples                 27007 non-null  float64\n",
      " 25  rent_gt_10                   27007 non-null  float64\n",
      " 26  rent_gt_15                   27007 non-null  float64\n",
      " 27  rent_gt_20                   27007 non-null  float64\n",
      " 28  rent_gt_25                   27007 non-null  float64\n",
      " 29  rent_gt_30                   27007 non-null  float64\n",
      " 30  rent_gt_35                   27007 non-null  float64\n",
      " 31  rent_gt_40                   27007 non-null  float64\n",
      " 32  rent_gt_50                   27007 non-null  float64\n",
      " 33  universe_samples             27321 non-null  int64  \n",
      " 34  used_samples                 27321 non-null  int64  \n",
      " 35  hi_mean                      27053 non-null  float64\n",
      " 36  hi_median                    27053 non-null  float64\n",
      " 37  hi_stdev                     27053 non-null  float64\n",
      " 38  hi_sample_weight             27053 non-null  float64\n",
      " 39  hi_samples                   27053 non-null  float64\n",
      " 40  family_mean                  27023 non-null  float64\n",
      " 41  family_median                27023 non-null  float64\n",
      " 42  family_stdev                 27023 non-null  float64\n",
      " 43  family_sample_weight         27023 non-null  float64\n",
      " 44  family_samples               27023 non-null  float64\n",
      " 45  hc_mortgage_mean             26748 non-null  float64\n",
      " 46  hc_mortgage_median           26748 non-null  float64\n",
      " 47  hc_mortgage_stdev            26748 non-null  float64\n",
      " 48  hc_mortgage_sample_weight    26748 non-null  float64\n",
      " 49  hc_mortgage_samples          26748 non-null  float64\n",
      " 50  hc_mean                      26721 non-null  float64\n",
      " 51  hc_median                    26721 non-null  float64\n",
      " 52  hc_stdev                     26721 non-null  float64\n",
      " 53  hc_samples                   26721 non-null  float64\n",
      " 54  hc_sample_weight             26721 non-null  float64\n",
      " 55  home_equity_second_mortgage  26864 non-null  float64\n",
      " 56  second_mortgage              26864 non-null  float64\n",
      " 57  home_equity                  26864 non-null  float64\n",
      " 58  debt                         26864 non-null  float64\n",
      " 59  second_mortgage_cdf          26864 non-null  float64\n",
      " 60  home_equity_cdf              26864 non-null  float64\n",
      " 61  debt_cdf                     26864 non-null  float64\n",
      " 62  hs_degree                    27131 non-null  float64\n",
      " 63  hs_degree_male               27121 non-null  float64\n",
      " 64  hs_degree_female             27098 non-null  float64\n",
      " 65  male_age_mean                27132 non-null  float64\n",
      " 66  male_age_median              27132 non-null  float64\n",
      " 67  male_age_stdev               27132 non-null  float64\n",
      " 68  male_age_sample_weight       27132 non-null  float64\n",
      " 69  male_age_samples             27132 non-null  float64\n",
      " 70  female_age_mean              27115 non-null  float64\n",
      " 71  female_age_median            27115 non-null  float64\n",
      " 72  female_age_stdev             27115 non-null  float64\n",
      " 73  female_age_sample_weight     27115 non-null  float64\n",
      " 74  female_age_samples           27115 non-null  float64\n",
      " 75  pct_own                      27053 non-null  float64\n",
      " 76  married                      27130 non-null  float64\n",
      " 77  married_snp                  27130 non-null  float64\n",
      " 78  separated                    27130 non-null  float64\n",
      " 79  divorced                     27130 non-null  float64\n",
      "dtypes: float64(62), int64(12), object(6)\n",
      "memory usage: 16.7+ MB\n"
     ]
    }
   ],
   "source": [
    "df_train.info()"
   ]
  },
  {
   "cell_type": "markdown",
   "id": "0ad7ecf5-d3c5-4507-9741-33204d0c5394",
   "metadata": {},
   "source": [
    "### 2. Figure out the Primary key and look for requirement of Indexing"
   ]
  },
  {
   "cell_type": "code",
   "execution_count": 8,
   "id": "bfa5d67c-2942-4d84-8a9a-1ea9dedec302",
   "metadata": {},
   "outputs": [],
   "source": [
    "# UID is the primary key, so index must be created \n",
    "\n",
    "df_train.set_index(keys=['UID'],inplace=True)\n",
    "\n",
    "df_test.set_index(keys=['UID'],inplace=True)"
   ]
  },
  {
   "cell_type": "code",
   "execution_count": 9,
   "id": "336fa25a-1e1a-49fd-85de-8ab151cd63f1",
   "metadata": {},
   "outputs": [
    {
     "data": {
      "text/html": [
       "<div>\n",
       "<style scoped>\n",
       "    .dataframe tbody tr th:only-of-type {\n",
       "        vertical-align: middle;\n",
       "    }\n",
       "\n",
       "    .dataframe tbody tr th {\n",
       "        vertical-align: top;\n",
       "    }\n",
       "\n",
       "    .dataframe thead th {\n",
       "        text-align: right;\n",
       "    }\n",
       "</style>\n",
       "<table border=\"1\" class=\"dataframe\">\n",
       "  <thead>\n",
       "    <tr style=\"text-align: right;\">\n",
       "      <th></th>\n",
       "      <th>BLOCKID</th>\n",
       "      <th>SUMLEVEL</th>\n",
       "      <th>COUNTYID</th>\n",
       "      <th>STATEID</th>\n",
       "      <th>state</th>\n",
       "      <th>state_ab</th>\n",
       "      <th>city</th>\n",
       "      <th>place</th>\n",
       "      <th>type</th>\n",
       "      <th>primary</th>\n",
       "      <th>...</th>\n",
       "      <th>female_age_mean</th>\n",
       "      <th>female_age_median</th>\n",
       "      <th>female_age_stdev</th>\n",
       "      <th>female_age_sample_weight</th>\n",
       "      <th>female_age_samples</th>\n",
       "      <th>pct_own</th>\n",
       "      <th>married</th>\n",
       "      <th>married_snp</th>\n",
       "      <th>separated</th>\n",
       "      <th>divorced</th>\n",
       "    </tr>\n",
       "    <tr>\n",
       "      <th>UID</th>\n",
       "      <th></th>\n",
       "      <th></th>\n",
       "      <th></th>\n",
       "      <th></th>\n",
       "      <th></th>\n",
       "      <th></th>\n",
       "      <th></th>\n",
       "      <th></th>\n",
       "      <th></th>\n",
       "      <th></th>\n",
       "      <th></th>\n",
       "      <th></th>\n",
       "      <th></th>\n",
       "      <th></th>\n",
       "      <th></th>\n",
       "      <th></th>\n",
       "      <th></th>\n",
       "      <th></th>\n",
       "      <th></th>\n",
       "      <th></th>\n",
       "      <th></th>\n",
       "    </tr>\n",
       "  </thead>\n",
       "  <tbody>\n",
       "    <tr>\n",
       "      <th>267822</th>\n",
       "      <td>NaN</td>\n",
       "      <td>140</td>\n",
       "      <td>53</td>\n",
       "      <td>36</td>\n",
       "      <td>New York</td>\n",
       "      <td>NY</td>\n",
       "      <td>Hamilton</td>\n",
       "      <td>Hamilton</td>\n",
       "      <td>City</td>\n",
       "      <td>tract</td>\n",
       "      <td>...</td>\n",
       "      <td>44.48629</td>\n",
       "      <td>45.33333</td>\n",
       "      <td>22.51276</td>\n",
       "      <td>685.33845</td>\n",
       "      <td>2618.0</td>\n",
       "      <td>0.79046</td>\n",
       "      <td>0.57851</td>\n",
       "      <td>0.01882</td>\n",
       "      <td>0.01240</td>\n",
       "      <td>0.0877</td>\n",
       "    </tr>\n",
       "    <tr>\n",
       "      <th>246444</th>\n",
       "      <td>NaN</td>\n",
       "      <td>140</td>\n",
       "      <td>141</td>\n",
       "      <td>18</td>\n",
       "      <td>Indiana</td>\n",
       "      <td>IN</td>\n",
       "      <td>South Bend</td>\n",
       "      <td>Roseland</td>\n",
       "      <td>City</td>\n",
       "      <td>tract</td>\n",
       "      <td>...</td>\n",
       "      <td>36.48391</td>\n",
       "      <td>37.58333</td>\n",
       "      <td>23.43353</td>\n",
       "      <td>267.23367</td>\n",
       "      <td>1284.0</td>\n",
       "      <td>0.52483</td>\n",
       "      <td>0.34886</td>\n",
       "      <td>0.01426</td>\n",
       "      <td>0.01426</td>\n",
       "      <td>0.0903</td>\n",
       "    </tr>\n",
       "  </tbody>\n",
       "</table>\n",
       "<p>2 rows × 79 columns</p>\n",
       "</div>"
      ],
      "text/plain": [
       "        BLOCKID  SUMLEVEL  COUNTYID  STATEID     state state_ab        city  \\\n",
       "UID                                                                           \n",
       "267822      NaN       140        53       36  New York       NY    Hamilton   \n",
       "246444      NaN       140       141       18   Indiana       IN  South Bend   \n",
       "\n",
       "           place  type primary  ...  female_age_mean  female_age_median  \\\n",
       "UID                             ...                                       \n",
       "267822  Hamilton  City   tract  ...         44.48629           45.33333   \n",
       "246444  Roseland  City   tract  ...         36.48391           37.58333   \n",
       "\n",
       "        female_age_stdev  female_age_sample_weight  female_age_samples  \\\n",
       "UID                                                                      \n",
       "267822          22.51276                 685.33845              2618.0   \n",
       "246444          23.43353                 267.23367              1284.0   \n",
       "\n",
       "        pct_own  married  married_snp  separated  divorced  \n",
       "UID                                                         \n",
       "267822  0.79046  0.57851      0.01882    0.01240    0.0877  \n",
       "246444  0.52483  0.34886      0.01426    0.01426    0.0903  \n",
       "\n",
       "[2 rows x 79 columns]"
      ]
     },
     "execution_count": 9,
     "metadata": {},
     "output_type": "execute_result"
    }
   ],
   "source": [
    "df_train.head(2)"
   ]
  },
  {
   "cell_type": "code",
   "execution_count": 10,
   "id": "8cb8c152-0fa6-43dc-a805-fadaf57bcfc2",
   "metadata": {},
   "outputs": [
    {
     "data": {
      "text/html": [
       "<div>\n",
       "<style scoped>\n",
       "    .dataframe tbody tr th:only-of-type {\n",
       "        vertical-align: middle;\n",
       "    }\n",
       "\n",
       "    .dataframe tbody tr th {\n",
       "        vertical-align: top;\n",
       "    }\n",
       "\n",
       "    .dataframe thead th {\n",
       "        text-align: right;\n",
       "    }\n",
       "</style>\n",
       "<table border=\"1\" class=\"dataframe\">\n",
       "  <thead>\n",
       "    <tr style=\"text-align: right;\">\n",
       "      <th></th>\n",
       "      <th>BLOCKID</th>\n",
       "      <th>SUMLEVEL</th>\n",
       "      <th>COUNTYID</th>\n",
       "      <th>STATEID</th>\n",
       "      <th>state</th>\n",
       "      <th>state_ab</th>\n",
       "      <th>city</th>\n",
       "      <th>place</th>\n",
       "      <th>type</th>\n",
       "      <th>primary</th>\n",
       "      <th>...</th>\n",
       "      <th>female_age_mean</th>\n",
       "      <th>female_age_median</th>\n",
       "      <th>female_age_stdev</th>\n",
       "      <th>female_age_sample_weight</th>\n",
       "      <th>female_age_samples</th>\n",
       "      <th>pct_own</th>\n",
       "      <th>married</th>\n",
       "      <th>married_snp</th>\n",
       "      <th>separated</th>\n",
       "      <th>divorced</th>\n",
       "    </tr>\n",
       "    <tr>\n",
       "      <th>UID</th>\n",
       "      <th></th>\n",
       "      <th></th>\n",
       "      <th></th>\n",
       "      <th></th>\n",
       "      <th></th>\n",
       "      <th></th>\n",
       "      <th></th>\n",
       "      <th></th>\n",
       "      <th></th>\n",
       "      <th></th>\n",
       "      <th></th>\n",
       "      <th></th>\n",
       "      <th></th>\n",
       "      <th></th>\n",
       "      <th></th>\n",
       "      <th></th>\n",
       "      <th></th>\n",
       "      <th></th>\n",
       "      <th></th>\n",
       "      <th></th>\n",
       "      <th></th>\n",
       "    </tr>\n",
       "  </thead>\n",
       "  <tbody>\n",
       "    <tr>\n",
       "      <th>255504</th>\n",
       "      <td>NaN</td>\n",
       "      <td>140</td>\n",
       "      <td>163</td>\n",
       "      <td>26</td>\n",
       "      <td>Michigan</td>\n",
       "      <td>MI</td>\n",
       "      <td>Detroit</td>\n",
       "      <td>Dearborn Heights City</td>\n",
       "      <td>CDP</td>\n",
       "      <td>tract</td>\n",
       "      <td>...</td>\n",
       "      <td>34.78682</td>\n",
       "      <td>33.75000</td>\n",
       "      <td>21.58531</td>\n",
       "      <td>416.48097</td>\n",
       "      <td>1938.0</td>\n",
       "      <td>0.70252</td>\n",
       "      <td>0.28217</td>\n",
       "      <td>0.05910</td>\n",
       "      <td>0.03813</td>\n",
       "      <td>0.14299</td>\n",
       "    </tr>\n",
       "    <tr>\n",
       "      <th>252676</th>\n",
       "      <td>NaN</td>\n",
       "      <td>140</td>\n",
       "      <td>1</td>\n",
       "      <td>23</td>\n",
       "      <td>Maine</td>\n",
       "      <td>ME</td>\n",
       "      <td>Auburn</td>\n",
       "      <td>Auburn City</td>\n",
       "      <td>City</td>\n",
       "      <td>tract</td>\n",
       "      <td>...</td>\n",
       "      <td>44.23451</td>\n",
       "      <td>46.66667</td>\n",
       "      <td>22.37036</td>\n",
       "      <td>532.03505</td>\n",
       "      <td>1950.0</td>\n",
       "      <td>0.85128</td>\n",
       "      <td>0.64221</td>\n",
       "      <td>0.02338</td>\n",
       "      <td>0.00000</td>\n",
       "      <td>0.13377</td>\n",
       "    </tr>\n",
       "  </tbody>\n",
       "</table>\n",
       "<p>2 rows × 79 columns</p>\n",
       "</div>"
      ],
      "text/plain": [
       "        BLOCKID  SUMLEVEL  COUNTYID  STATEID     state state_ab     city  \\\n",
       "UID                                                                        \n",
       "255504      NaN       140       163       26  Michigan       MI  Detroit   \n",
       "252676      NaN       140         1       23     Maine       ME   Auburn   \n",
       "\n",
       "                        place  type primary  ...  female_age_mean  \\\n",
       "UID                                          ...                    \n",
       "255504  Dearborn Heights City   CDP   tract  ...         34.78682   \n",
       "252676            Auburn City  City   tract  ...         44.23451   \n",
       "\n",
       "        female_age_median  female_age_stdev  female_age_sample_weight  \\\n",
       "UID                                                                     \n",
       "255504           33.75000          21.58531                 416.48097   \n",
       "252676           46.66667          22.37036                 532.03505   \n",
       "\n",
       "        female_age_samples  pct_own  married  married_snp  separated  divorced  \n",
       "UID                                                                             \n",
       "255504              1938.0  0.70252  0.28217      0.05910    0.03813   0.14299  \n",
       "252676              1950.0  0.85128  0.64221      0.02338    0.00000   0.13377  \n",
       "\n",
       "[2 rows x 79 columns]"
      ]
     },
     "execution_count": 10,
     "metadata": {},
     "output_type": "execute_result"
    }
   ],
   "source": [
    "df_test.head(2)"
   ]
  },
  {
   "cell_type": "markdown",
   "id": "102e0d6e-f84d-4951-a0a5-7723ff2e7349",
   "metadata": {},
   "source": [
    "### 3. Gauge the fill rate of the variables and devise plans for missing value treatment. Please explain explicitly the reason for the treatment chosen for each variable."
   ]
  },
  {
   "cell_type": "code",
   "execution_count": 11,
   "id": "9f98563e-0a0d-438f-8997-dbf5a1166613",
   "metadata": {},
   "outputs": [],
   "source": [
    "# percentage of missing values in train set\n",
    "\n",
    "missing_values=df_train.isnull().sum()/len(df_train)*100\n",
    "\n",
    "# adding the column to the Dataframe to sort the column later\n",
    "missing_values_df=pd.DataFrame(missing_values,columns=['Percentage of Missing values'])"
   ]
  },
  {
   "cell_type": "code",
   "execution_count": 12,
   "id": "772444fb-bb3a-4870-b2bd-e6d01488bfac",
   "metadata": {},
   "outputs": [
    {
     "data": {
      "text/html": [
       "<div>\n",
       "<style scoped>\n",
       "    .dataframe tbody tr th:only-of-type {\n",
       "        vertical-align: middle;\n",
       "    }\n",
       "\n",
       "    .dataframe tbody tr th {\n",
       "        vertical-align: top;\n",
       "    }\n",
       "\n",
       "    .dataframe thead th {\n",
       "        text-align: right;\n",
       "    }\n",
       "</style>\n",
       "<table border=\"1\" class=\"dataframe\">\n",
       "  <thead>\n",
       "    <tr style=\"text-align: right;\">\n",
       "      <th></th>\n",
       "      <th>Percentage of Missing values</th>\n",
       "    </tr>\n",
       "  </thead>\n",
       "  <tbody>\n",
       "    <tr>\n",
       "      <th>BLOCKID</th>\n",
       "      <td>100.000000</td>\n",
       "    </tr>\n",
       "    <tr>\n",
       "      <th>hc_samples</th>\n",
       "      <td>2.196113</td>\n",
       "    </tr>\n",
       "    <tr>\n",
       "      <th>hc_mean</th>\n",
       "      <td>2.196113</td>\n",
       "    </tr>\n",
       "    <tr>\n",
       "      <th>hc_median</th>\n",
       "      <td>2.196113</td>\n",
       "    </tr>\n",
       "    <tr>\n",
       "      <th>hc_stdev</th>\n",
       "      <td>2.196113</td>\n",
       "    </tr>\n",
       "    <tr>\n",
       "      <th>...</th>\n",
       "      <td>...</td>\n",
       "    </tr>\n",
       "    <tr>\n",
       "      <th>state</th>\n",
       "      <td>0.000000</td>\n",
       "    </tr>\n",
       "    <tr>\n",
       "      <th>zip_code</th>\n",
       "      <td>0.000000</td>\n",
       "    </tr>\n",
       "    <tr>\n",
       "      <th>city</th>\n",
       "      <td>0.000000</td>\n",
       "    </tr>\n",
       "    <tr>\n",
       "      <th>place</th>\n",
       "      <td>0.000000</td>\n",
       "    </tr>\n",
       "    <tr>\n",
       "      <th>state_ab</th>\n",
       "      <td>0.000000</td>\n",
       "    </tr>\n",
       "  </tbody>\n",
       "</table>\n",
       "<p>79 rows × 1 columns</p>\n",
       "</div>"
      ],
      "text/plain": [
       "            Percentage of Missing values\n",
       "BLOCKID                       100.000000\n",
       "hc_samples                      2.196113\n",
       "hc_mean                         2.196113\n",
       "hc_median                       2.196113\n",
       "hc_stdev                        2.196113\n",
       "...                                  ...\n",
       "state                           0.000000\n",
       "zip_code                        0.000000\n",
       "city                            0.000000\n",
       "place                           0.000000\n",
       "state_ab                        0.000000\n",
       "\n",
       "[79 rows x 1 columns]"
      ]
     },
     "execution_count": 12,
     "metadata": {},
     "output_type": "execute_result"
    }
   ],
   "source": [
    "missing_values_df.sort_values(by=['Percentage of Missing values'],inplace=True,ascending=False)\n",
    "\n",
    "missing_values_df"
   ]
  },
  {
   "cell_type": "code",
   "execution_count": 13,
   "id": "946371cb-5ce6-4978-9406-7c66412ef9d9",
   "metadata": {},
   "outputs": [
    {
     "data": {
      "text/html": [
       "<div>\n",
       "<style scoped>\n",
       "    .dataframe tbody tr th:only-of-type {\n",
       "        vertical-align: middle;\n",
       "    }\n",
       "\n",
       "    .dataframe tbody tr th {\n",
       "        vertical-align: top;\n",
       "    }\n",
       "\n",
       "    .dataframe thead th {\n",
       "        text-align: right;\n",
       "    }\n",
       "</style>\n",
       "<table border=\"1\" class=\"dataframe\">\n",
       "  <thead>\n",
       "    <tr style=\"text-align: right;\">\n",
       "      <th></th>\n",
       "      <th>Percentage of Missing values</th>\n",
       "    </tr>\n",
       "  </thead>\n",
       "  <tbody>\n",
       "    <tr>\n",
       "      <th>BLOCKID</th>\n",
       "      <td>100.000000</td>\n",
       "    </tr>\n",
       "    <tr>\n",
       "      <th>hc_samples</th>\n",
       "      <td>2.196113</td>\n",
       "    </tr>\n",
       "    <tr>\n",
       "      <th>hc_mean</th>\n",
       "      <td>2.196113</td>\n",
       "    </tr>\n",
       "    <tr>\n",
       "      <th>hc_median</th>\n",
       "      <td>2.196113</td>\n",
       "    </tr>\n",
       "    <tr>\n",
       "      <th>hc_stdev</th>\n",
       "      <td>2.196113</td>\n",
       "    </tr>\n",
       "    <tr>\n",
       "      <th>hc_sample_weight</th>\n",
       "      <td>2.196113</td>\n",
       "    </tr>\n",
       "    <tr>\n",
       "      <th>hc_mortgage_mean</th>\n",
       "      <td>2.097288</td>\n",
       "    </tr>\n",
       "    <tr>\n",
       "      <th>hc_mortgage_stdev</th>\n",
       "      <td>2.097288</td>\n",
       "    </tr>\n",
       "    <tr>\n",
       "      <th>hc_mortgage_sample_weight</th>\n",
       "      <td>2.097288</td>\n",
       "    </tr>\n",
       "    <tr>\n",
       "      <th>hc_mortgage_samples</th>\n",
       "      <td>2.097288</td>\n",
       "    </tr>\n",
       "  </tbody>\n",
       "</table>\n",
       "</div>"
      ],
      "text/plain": [
       "                           Percentage of Missing values\n",
       "BLOCKID                                      100.000000\n",
       "hc_samples                                     2.196113\n",
       "hc_mean                                        2.196113\n",
       "hc_median                                      2.196113\n",
       "hc_stdev                                       2.196113\n",
       "hc_sample_weight                               2.196113\n",
       "hc_mortgage_mean                               2.097288\n",
       "hc_mortgage_stdev                              2.097288\n",
       "hc_mortgage_sample_weight                      2.097288\n",
       "hc_mortgage_samples                            2.097288"
      ]
     },
     "execution_count": 13,
     "metadata": {},
     "output_type": "execute_result"
    }
   ],
   "source": [
    "# To view only the top 10 values\n",
    "\n",
    "missing_values_df[missing_values_df['Percentage of Missing values']>0][:10]"
   ]
  },
  {
   "cell_type": "code",
   "execution_count": 14,
   "id": "b135a3cf-9325-48b6-86c3-942271cf20c9",
   "metadata": {},
   "outputs": [
    {
     "data": {
      "text/html": [
       "<div>\n",
       "<style scoped>\n",
       "    .dataframe tbody tr th:only-of-type {\n",
       "        vertical-align: middle;\n",
       "    }\n",
       "\n",
       "    .dataframe tbody tr th {\n",
       "        vertical-align: top;\n",
       "    }\n",
       "\n",
       "    .dataframe thead th {\n",
       "        text-align: right;\n",
       "    }\n",
       "</style>\n",
       "<table border=\"1\" class=\"dataframe\">\n",
       "  <thead>\n",
       "    <tr style=\"text-align: right;\">\n",
       "      <th></th>\n",
       "      <th>Percentage of Missing values</th>\n",
       "    </tr>\n",
       "  </thead>\n",
       "  <tbody>\n",
       "    <tr>\n",
       "      <th>BLOCKID</th>\n",
       "      <td>100.000000</td>\n",
       "    </tr>\n",
       "    <tr>\n",
       "      <th>hc_samples</th>\n",
       "      <td>2.476727</td>\n",
       "    </tr>\n",
       "    <tr>\n",
       "      <th>hc_mean</th>\n",
       "      <td>2.476727</td>\n",
       "    </tr>\n",
       "    <tr>\n",
       "      <th>hc_median</th>\n",
       "      <td>2.476727</td>\n",
       "    </tr>\n",
       "    <tr>\n",
       "      <th>hc_stdev</th>\n",
       "      <td>2.476727</td>\n",
       "    </tr>\n",
       "    <tr>\n",
       "      <th>hc_sample_weight</th>\n",
       "      <td>2.476727</td>\n",
       "    </tr>\n",
       "    <tr>\n",
       "      <th>hc_mortgage_mean</th>\n",
       "      <td>2.288838</td>\n",
       "    </tr>\n",
       "    <tr>\n",
       "      <th>hc_mortgage_stdev</th>\n",
       "      <td>2.288838</td>\n",
       "    </tr>\n",
       "    <tr>\n",
       "      <th>hc_mortgage_sample_weight</th>\n",
       "      <td>2.288838</td>\n",
       "    </tr>\n",
       "    <tr>\n",
       "      <th>hc_mortgage_samples</th>\n",
       "      <td>2.288838</td>\n",
       "    </tr>\n",
       "  </tbody>\n",
       "</table>\n",
       "</div>"
      ],
      "text/plain": [
       "                           Percentage of Missing values\n",
       "BLOCKID                                      100.000000\n",
       "hc_samples                                     2.476727\n",
       "hc_mean                                        2.476727\n",
       "hc_median                                      2.476727\n",
       "hc_stdev                                       2.476727\n",
       "hc_sample_weight                               2.476727\n",
       "hc_mortgage_mean                               2.288838\n",
       "hc_mortgage_stdev                              2.288838\n",
       "hc_mortgage_sample_weight                      2.288838\n",
       "hc_mortgage_samples                            2.288838"
      ]
     },
     "execution_count": 14,
     "metadata": {},
     "output_type": "execute_result"
    }
   ],
   "source": [
    "# percentage of missing values in test set\n",
    "\n",
    "missing_values=df_test.isnull().sum()/len(df_test)*100\n",
    "\n",
    "missing_values_df_test=pd.DataFrame(missing_values,columns=['Percentage of Missing values'])\n",
    "\n",
    "missing_values_df_test.sort_values(by=['Percentage of Missing values'],inplace=True,ascending=False)\n",
    "\n",
    "missing_values_df_test[missing_values_df_test['Percentage of Missing values']>0][:10]"
   ]
  },
  {
   "cell_type": "markdown",
   "id": "2da4d8e9-b4de-4d82-a80a-05bd6e38590d",
   "metadata": {
    "tags": []
   },
   "source": [
    "#### DROP\n",
    "1. BLOCKID as it is completely empty\n",
    "1. SUMLEVEL as it does not have any predictive power as it has same value for every user."
   ]
  },
  {
   "cell_type": "code",
   "execution_count": 15,
   "id": "072dd406-3028-4dd3-b070-cbbc6fc43694",
   "metadata": {},
   "outputs": [],
   "source": [
    "# Drop the BlockID & Sum level from train dataset\n",
    "\n",
    "df_train.drop(columns=['BLOCKID','SUMLEVEL'],inplace=True)"
   ]
  },
  {
   "cell_type": "code",
   "execution_count": 16,
   "id": "853d6c1d-4197-4160-8c46-0400ecc1beaa",
   "metadata": {},
   "outputs": [],
   "source": [
    "#  Drop the BlockID & Sum level from test dataset\n",
    "\n",
    "df_test.drop(columns=['BLOCKID','SUMLEVEL'],inplace=True)\n"
   ]
  },
  {
   "cell_type": "code",
   "execution_count": 17,
   "id": "414eec6f-4cef-4f7d-a0b2-f522cd11394e",
   "metadata": {},
   "outputs": [
    {
     "data": {
      "text/plain": [
       "(27321, 77)"
      ]
     },
     "execution_count": 17,
     "metadata": {},
     "output_type": "execute_result"
    }
   ],
   "source": [
    "df_train.shape"
   ]
  },
  {
   "cell_type": "code",
   "execution_count": 18,
   "id": "b83f130b-91c0-42ef-9537-45e1e32c475f",
   "metadata": {},
   "outputs": [
    {
     "data": {
      "text/plain": [
       "(11709, 77)"
      ]
     },
     "execution_count": 18,
     "metadata": {},
     "output_type": "execute_result"
    }
   ],
   "source": [
    "df_test.shape"
   ]
  },
  {
   "cell_type": "code",
   "execution_count": 19,
   "id": "b8e600f5-378e-4b7b-ba30-a431375e1ea9",
   "metadata": {},
   "outputs": [
    {
     "name": "stdout",
     "output_type": "stream",
     "text": [
      "58  columns have missing values\n"
     ]
    }
   ],
   "source": [
    "# Missing values can be filled with Mean as it is quite difficult to check for each individual column if it has normal distribution or skewed.\n",
    "# So better to follow a common approach.\n",
    "\n",
    "missing_values_cols=[]\n",
    "\n",
    "for col in df_train.columns:\n",
    "\n",
    "    if df_train[col].isna().sum()!=0:    # searching for missing values\n",
    "\n",
    "        missing_values_cols.append(col)\n",
    "\n",
    "print(len(missing_values_cols), ' columns have missing values')"
   ]
  },
  {
   "cell_type": "code",
   "execution_count": 20,
   "id": "da64ee90-8f89-4c28-b3f9-af817d98977a",
   "metadata": {},
   "outputs": [],
   "source": [
    "# impute the missing values with the mean\n",
    "\n",
    "for col in df_train.columns:\n",
    "\n",
    "    if col in (missing_values_cols):\n",
    "\n",
    "        df_train[col].replace(np.nan,df_train[col].mean(),inplace=True)"
   ]
  },
  {
   "cell_type": "code",
   "execution_count": 21,
   "id": "cb207162-8f4d-4ec8-a7dd-4d04d44550db",
   "metadata": {},
   "outputs": [
    {
     "data": {
      "text/plain": [
       "False"
      ]
     },
     "execution_count": 21,
     "metadata": {},
     "output_type": "execute_result"
    }
   ],
   "source": [
    "# check if any missing values still left in training data\n",
    "\n",
    "df_train.isnull().sum().any()"
   ]
  },
  {
   "cell_type": "code",
   "execution_count": null,
   "id": "28e0af88-998b-4d59-ac45-bd1a71a13023",
   "metadata": {},
   "outputs": [],
   "source": []
  },
  {
   "cell_type": "code",
   "execution_count": 22,
   "id": "12c8e6c3-264a-4100-876b-18dff30c85d0",
   "metadata": {},
   "outputs": [
    {
     "name": "stdout",
     "output_type": "stream",
     "text": [
      "58  columns have missing values\n"
     ]
    }
   ],
   "source": [
    "#Create col of missing values in test data\n",
    "\n",
    "missing_values_cols=[]\n",
    "\n",
    "for col in df_test.columns:\n",
    "\n",
    "    if df_test[col].isna().sum()!=0:\n",
    "\n",
    "        missing_values_cols.append(col)\n",
    "\n",
    "print(len(missing_values_cols), ' columns have missing values')"
   ]
  },
  {
   "cell_type": "code",
   "execution_count": 23,
   "id": "4f87be71-75e3-4e25-ab44-2f9785c376b1",
   "metadata": {},
   "outputs": [],
   "source": [
    "# impute the missing values with the mean\n",
    "\n",
    "for col in df_test.columns:\n",
    "\n",
    "    if col in (missing_values_cols):\n",
    "\n",
    "        df_test[col].replace(np.nan,df_test[col].mean(),inplace=True)"
   ]
  },
  {
   "cell_type": "code",
   "execution_count": 24,
   "id": "c4fca96e-6798-4bd1-a24b-ff286bb95940",
   "metadata": {},
   "outputs": [
    {
     "data": {
      "text/plain": [
       "False"
      ]
     },
     "execution_count": 24,
     "metadata": {},
     "output_type": "execute_result"
    }
   ],
   "source": [
    "# missing values \n",
    "\n",
    "df_test.isnull().sum().any()"
   ]
  },
  {
   "cell_type": "markdown",
   "id": "3097d938-9bfc-46c3-b5f4-40eceb13534a",
   "metadata": {
    "tags": []
   },
   "source": [
    "### Exploratory Data Analysis (EDA):\n",
    "\n",
    "4. Perform debt analysis. You may take the following steps:\n",
    "\n",
    "    a. Explore the top 2,500 locations where the percentage of households with a second mortgage is the highest and percent ownership is above 10 percent. Visualize using geo-map (using tableau). You may keep the upper limit for the percent of households with a second mortgage to 50 percent\n",
    "\n",
    "    b. Use the following bad debt equation:\n",
    "\n",
    "        Bad Debt = P (Second Mortgage ∩ Home Equity Loan)\n",
    "        Bad Debt = second_mortgage + home_equity - home_equity_second_mortgage\n",
    "        Create pie charts  to show overall debt and bad debt\n",
    "\n",
    "    c. Create Box and whisker plot and analyze the distribution for 2nd mortgage, home equity, good debt, and bad debt for different cities\n",
    "\n",
    "    d. Create a collated income distribution chart for family income, house hold income, and remaining income"
   ]
  },
  {
   "cell_type": "markdown",
   "id": "eda58494-a89f-4daa-8d24-7f2f65f8e88c",
   "metadata": {
    "jp-MarkdownHeadingCollapsed": true,
    "tags": []
   },
   "source": [
    "## 4a"
   ]
  },
  {
   "cell_type": "code",
   "execution_count": 25,
   "id": "ffee8606-63b1-4118-8aef-0bea359abd4c",
   "metadata": {},
   "outputs": [
    {
     "name": "stdout",
     "output_type": "stream",
     "text": [
      "Defaulting to user installation because normal site-packages is not writeable\n",
      "Requirement already satisfied: pandasql in /voc/work/.local/lib/python3.10/site-packages (0.7.3)\n",
      "Requirement already satisfied: numpy in /usr/local/lib/python3.10/site-packages (from pandasql) (1.23.5)\n",
      "Requirement already satisfied: pandas in /usr/local/lib/python3.10/site-packages (from pandasql) (1.5.3)\n",
      "Requirement already satisfied: sqlalchemy in /usr/local/lib/python3.10/site-packages (from pandasql) (1.4.20)\n",
      "Requirement already satisfied: python-dateutil>=2.8.1 in /usr/local/lib/python3.10/site-packages (from pandas->pandasql) (2.8.2)\n",
      "Requirement already satisfied: pytz>=2020.1 in /usr/local/lib/python3.10/site-packages (from pandas->pandasql) (2022.1)\n",
      "Requirement already satisfied: greenlet!=0.4.17 in /usr/local/lib/python3.10/site-packages (from sqlalchemy->pandasql) (1.1.2)\n",
      "Requirement already satisfied: six>=1.5 in /usr/local/lib/python3.10/site-packages (from python-dateutil>=2.8.1->pandas->pandasql) (1.16.0)\n",
      "\n",
      "\u001b[1m[\u001b[0m\u001b[34;49mnotice\u001b[0m\u001b[1;39;49m]\u001b[0m\u001b[39;49m A new release of pip is available: \u001b[0m\u001b[31;49m23.3\u001b[0m\u001b[39;49m -> \u001b[0m\u001b[32;49m24.0\u001b[0m\n",
      "\u001b[1m[\u001b[0m\u001b[34;49mnotice\u001b[0m\u001b[1;39;49m]\u001b[0m\u001b[39;49m To update, run: \u001b[0m\u001b[32;49mpip install --upgrade pip\u001b[0m\n"
     ]
    }
   ],
   "source": [
    "!pip install pandasql"
   ]
  },
  {
   "cell_type": "code",
   "execution_count": 26,
   "id": "aed64143-4127-42e4-8475-0a18fc5da5a9",
   "metadata": {},
   "outputs": [],
   "source": [
    "from pandasql import sqldf\n",
    "\n",
    "# its not compulsory to use SQL here , you can use pandas as well.\n",
    "\n",
    "q1='select place,pct_own,second_mortgage,lat,lng from df_train where pct_own>0.10 and second_mortgage<0.5 order by second_mortgage DESC LIMIT 2500;'\n",
    "\n",
    "query_df=lambda q:sqldf(q,globals())\n",
    "\n",
    "df_train_location_mort_pct=query_df(q1)"
   ]
  },
  {
   "cell_type": "code",
   "execution_count": 27,
   "id": "6c78519b-7e90-421d-b7c0-52b680b71c9b",
   "metadata": {},
   "outputs": [
    {
     "data": {
      "text/html": [
       "<div>\n",
       "<style scoped>\n",
       "    .dataframe tbody tr th:only-of-type {\n",
       "        vertical-align: middle;\n",
       "    }\n",
       "\n",
       "    .dataframe tbody tr th {\n",
       "        vertical-align: top;\n",
       "    }\n",
       "\n",
       "    .dataframe thead th {\n",
       "        text-align: right;\n",
       "    }\n",
       "</style>\n",
       "<table border=\"1\" class=\"dataframe\">\n",
       "  <thead>\n",
       "    <tr style=\"text-align: right;\">\n",
       "      <th></th>\n",
       "      <th>place</th>\n",
       "      <th>pct_own</th>\n",
       "      <th>second_mortgage</th>\n",
       "      <th>lat</th>\n",
       "      <th>lng</th>\n",
       "    </tr>\n",
       "  </thead>\n",
       "  <tbody>\n",
       "    <tr>\n",
       "      <th>0</th>\n",
       "      <td>Worcester City</td>\n",
       "      <td>0.20247</td>\n",
       "      <td>0.43363</td>\n",
       "      <td>42.254262</td>\n",
       "      <td>-71.800347</td>\n",
       "    </tr>\n",
       "    <tr>\n",
       "      <th>1</th>\n",
       "      <td>Harbor Hills</td>\n",
       "      <td>0.15618</td>\n",
       "      <td>0.31818</td>\n",
       "      <td>40.751809</td>\n",
       "      <td>-73.853582</td>\n",
       "    </tr>\n",
       "  </tbody>\n",
       "</table>\n",
       "</div>"
      ],
      "text/plain": [
       "            place  pct_own  second_mortgage        lat        lng\n",
       "0  Worcester City  0.20247          0.43363  42.254262 -71.800347\n",
       "1    Harbor Hills  0.15618          0.31818  40.751809 -73.853582"
      ]
     },
     "execution_count": 27,
     "metadata": {},
     "output_type": "execute_result"
    }
   ],
   "source": [
    "\n",
    "df_train_location_mort_pct.head(2)"
   ]
  },
  {
   "cell_type": "markdown",
   "id": "5f5abc3d-6b81-4b4a-b4a4-034d321af578",
   "metadata": {
    "jp-MarkdownHeadingCollapsed": true,
    "tags": []
   },
   "source": [
    "## 4b"
   ]
  },
  {
   "cell_type": "code",
   "execution_count": 28,
   "id": "74e4dbf8-7b5f-4886-aced-a6b3f26f1185",
   "metadata": {},
   "outputs": [
    {
     "data": {
      "text/plain": [
       "UID\n",
       "267822    0.09408\n",
       "246444    0.04274\n",
       "245683    0.09512\n",
       "279653    0.01086\n",
       "247218    0.05426\n",
       "           ...   \n",
       "279212    0.00000\n",
       "277856    0.20908\n",
       "233000    0.07857\n",
       "287425    0.14305\n",
       "265371    0.18362\n",
       "Name: bad_debt, Length: 27321, dtype: float64"
      ]
     },
     "execution_count": 28,
     "metadata": {},
     "output_type": "execute_result"
    }
   ],
   "source": [
    "df_train['bad_debt']=df_train['second_mortgage']+df_train['home_equity']-df_train['home_equity_second_mortgage']\n",
    "df_train['bad_debt']"
   ]
  },
  {
   "cell_type": "code",
   "execution_count": 29,
   "id": "d090988e-0975-45aa-b68f-d874df469f03",
   "metadata": {},
   "outputs": [
    {
     "data": {
      "image/png": "[encoded data removed]",
      "text/plain": [
       "<Figure size 432x288 with 1 Axes>"
      ]
     },
     "metadata": {},
     "output_type": "display_data"
    }
   ],
   "source": [
    "# Create pie charts  to show overall debt and bad debt\n",
    "\n",
    "df_train['bins'] = pd.cut(df_train['bad_debt'],bins=[0,0.10,1],labels=[\"less than 50%\",'50-100%'])\n",
    "\n",
    "df_train.groupby(['bins']).size().plot(kind='pie',subplots=True,autopct='%1.1f%%')\n",
    "\n",
    "plt.show()"
   ]
  },
  {
   "cell_type": "markdown",
   "id": "84942958-96fb-430d-9d8a-91a6db5cce89",
   "metadata": {
    "jp-MarkdownHeadingCollapsed": true,
    "tags": []
   },
   "source": [
    "## 4c"
   ]
  },
  {
   "cell_type": "code",
   "execution_count": 30,
   "id": "1fd15eb7-f1b2-4e65-83d4-2dfbde87a4ad",
   "metadata": {},
   "outputs": [],
   "source": [
    "# Create Box and whisker plot and analyze the distribution for 2nd mortgage, home equity, good debt, and bad debt for different cities\n",
    "\n",
    "# take 2 cities randomly\n",
    "\n",
    "cols=['second_mortgage','home_equity','debt','bad_debt']\n",
    "\n",
    "df_Hamilton = df_train.loc[df_train['city'] =='Hamilton']\n",
    "\n",
    "df_Manhattan = df_train.loc[df_train['city'] =='Manhattan']\n",
    "\n",
    "df_city = pd.concat([df_Hamilton,df_Manhattan])"
   ]
  },
  {
   "cell_type": "code",
   "execution_count": 31,
   "id": "9e5758a5-e20a-45fb-8744-6c6bf78e2a04",
   "metadata": {},
   "outputs": [
    {
     "data": {
      "text/plain": [
       "(24, 79)"
      ]
     },
     "execution_count": 31,
     "metadata": {},
     "output_type": "execute_result"
    }
   ],
   "source": [
    "df_city.shape"
   ]
  },
  {
   "cell_type": "code",
   "execution_count": 32,
   "id": "3d92ca98-f6d2-48ac-9a50-1d3c61b09fac",
   "metadata": {},
   "outputs": [
    {
     "data": {
      "text/plain": [
       "<AxesSubplot: xlabel='second_mortgage', ylabel='city'>"
      ]
     },
     "execution_count": 32,
     "metadata": {},
     "output_type": "execute_result"
    },
    {
     "data": {
      "image/png": "[encoded data removed]",
      "text/plain": [
       "<Figure size 432x288 with 1 Axes>"
      ]
     },
     "metadata": {
      "needs_background": "light"
     },
     "output_type": "display_data"
    }
   ],
   "source": [
    "sns.boxplot(data=df_city, x='second_mortgage', y='city')"
   ]
  },
  {
   "cell_type": "markdown",
   "id": "3bdf3fa4-6f01-46e8-a477-8ec347b7dbd1",
   "metadata": {},
   "source": [
    "Manhattan has more 2nd mortgage"
   ]
  },
  {
   "cell_type": "code",
   "execution_count": 33,
   "id": "2d067c4e-eae9-4a29-87b3-1b05bee346e7",
   "metadata": {},
   "outputs": [
    {
     "data": {
      "text/plain": [
       "<AxesSubplot: xlabel='home_equity', ylabel='city'>"
      ]
     },
     "execution_count": 33,
     "metadata": {},
     "output_type": "execute_result"
    },
    {
     "data": {
      "image/png": "[encoded data removed]",
      "text/plain": [
       "<Figure size 432x288 with 1 Axes>"
      ]
     },
     "metadata": {
      "needs_background": "light"
     },
     "output_type": "display_data"
    }
   ],
   "source": [
    "sns.boxplot(data=df_city,x='home_equity',y='city')"
   ]
  },
  {
   "cell_type": "markdown",
   "id": "d8506c5e-4fa7-45f9-92c9-f122a31075c9",
   "metadata": {},
   "source": [
    "Manhattan has more home equity\n",
    "range for hamilton is high, IQR for manhattan is high ; \n",
    "median is very left side -> skewed distribution for Manhattan"
   ]
  },
  {
   "cell_type": "code",
   "execution_count": 34,
   "id": "b8c0c795-fd63-4f41-a843-6fb8662824c2",
   "metadata": {},
   "outputs": [
    {
     "data": {
      "text/plain": [
       "<AxesSubplot: xlabel='debt', ylabel='city'>"
      ]
     },
     "execution_count": 34,
     "metadata": {},
     "output_type": "execute_result"
    },
    {
     "data": {
      "image/png": "[encoded data removed]",
      "text/plain": [
       "<Figure size 432x288 with 1 Axes>"
      ]
     },
     "metadata": {
      "needs_background": "light"
     },
     "output_type": "display_data"
    }
   ],
   "source": [
    "sns.boxplot(data=df_city,x='debt',y='city')"
   ]
  },
  {
   "cell_type": "code",
   "execution_count": 35,
   "id": "5a052e70-3916-4d91-9be1-ffcb1d8b3a65",
   "metadata": {},
   "outputs": [
    {
     "data": {
      "text/plain": [
       "<AxesSubplot: xlabel='bad_debt', ylabel='city'>"
      ]
     },
     "execution_count": 35,
     "metadata": {},
     "output_type": "execute_result"
    },
    {
     "data": {
      "image/png": "[encoded data removed]",
      "text/plain": [
       "<Figure size 432x288 with 1 Axes>"
      ]
     },
     "metadata": {
      "needs_background": "light"
     },
     "output_type": "display_data"
    }
   ],
   "source": [
    "sns.boxplot(data=df_city,x='bad_debt',y='city')"
   ]
  },
  {
   "cell_type": "markdown",
   "id": "9f96137d-8b02-4532-b10b-a0136d8bde12",
   "metadata": {},
   "source": [
    "### After comparing all these graphs we see that Manhattan has higher matrics compared to Hamilton"
   ]
  },
  {
   "cell_type": "markdown",
   "id": "618f3dea-fffb-4541-ad2d-92aa952ccafd",
   "metadata": {
    "jp-MarkdownHeadingCollapsed": true,
    "tags": []
   },
   "source": [
    "## 4 d"
   ]
  },
  {
   "cell_type": "code",
   "execution_count": 36,
   "id": "40cf583e-3818-45d4-8d06-62cc58bd14d1",
   "metadata": {},
   "outputs": [],
   "source": [
    "#  Create a collated income distribution chart for family income, house hold income, and remaining income"
   ]
  },
  {
   "cell_type": "code",
   "execution_count": 37,
   "id": "127a139a-92a5-4b16-a259-78dbd94f45d7",
   "metadata": {},
   "outputs": [
    {
     "data": {
      "image/png": "[encoded data removed]",
      "text/plain": [
       "<Figure size 432x288 with 1 Axes>"
      ]
     },
     "metadata": {
      "needs_background": "light"
     },
     "output_type": "display_data"
    }
   ],
   "source": [
    "sns.distplot(df_train['hi_mean'])\n",
    "\n",
    "plt.title('Household income distribution chart')\n",
    "\n",
    "plt.show()"
   ]
  },
  {
   "cell_type": "code",
   "execution_count": 38,
   "id": "0da639b8-07e4-472c-911e-730c13fd6585",
   "metadata": {},
   "outputs": [
    {
     "data": {
      "image/png": "[encoded data removed]",
      "text/plain": [
       "<Figure size 432x288 with 1 Axes>"
      ]
     },
     "metadata": {
      "needs_background": "light"
     },
     "output_type": "display_data"
    }
   ],
   "source": [
    "sns.distplot(df_train['family_mean'])\n",
    "\n",
    "plt.title('family mean distribution chart')\n",
    "\n",
    "plt.show()"
   ]
  },
  {
   "cell_type": "code",
   "execution_count": 39,
   "id": "5e0ba806-ba30-45dd-a702-f76ff901ac0b",
   "metadata": {},
   "outputs": [
    {
     "data": {
      "image/png": "[encoded data removed]",
      "text/plain": [
       "<Figure size 432x288 with 1 Axes>"
      ]
     },
     "metadata": {
      "needs_background": "light"
     },
     "output_type": "display_data"
    }
   ],
   "source": [
    "# Remaining income = family mean - household income mean\n",
    "\n",
    "sns.distplot(df_train['family_mean']-df_train['hi_mean'])\n",
    "\n",
    "plt.title('Remaining income distribution chart')\n",
    "\n",
    "plt.show()"
   ]
  },
  {
   "cell_type": "markdown",
   "id": "12517558-2281-4cdd-9afd-77278d3601b5",
   "metadata": {},
   "source": [
    "Normally distributed"
   ]
  },
  {
   "cell_type": "markdown",
   "id": "70a7961e-75eb-4d7e-bb1d-4d73fe77c4ba",
   "metadata": {
    "jp-MarkdownHeadingCollapsed": true,
    "tags": []
   },
   "source": [
    "## 5. Perform EDA and come out with insights into population density and age. You may have to derive new fields (make sure to weight averages for accurate measurements): \n",
    "\n",
    "    Use pop and ALand variables to create a new field called population density\n",
    "\n",
    "    Use male_age_median, female_age_median, male_pop, and female_pop to create a new field called median age\n",
    "\n",
    "    Visualize the findings using appropriate chart type"
   ]
  },
  {
   "cell_type": "code",
   "execution_count": 40,
   "id": "4d872b61-1cb8-4217-90ba-cb8655da0cc2",
   "metadata": {},
   "outputs": [
    {
     "data": {
      "image/png": "[encoded data removed]",
      "text/plain": [
       "<Figure size 432x288 with 3 Axes>"
      ]
     },
     "metadata": {
      "needs_background": "light"
     },
     "output_type": "display_data"
    }
   ],
   "source": [
    "# Population Charts\n",
    "\n",
    "fig,(ax1,ax2,ax3)=plt.subplots(3,1)\n",
    "sns.distplot(df_train['pop'],ax=ax1)\n",
    "sns.distplot(df_train['male_pop'],ax=ax2)\n",
    "sns.distplot(df_train['female_pop'],ax=ax3)\n",
    "plt.subplots_adjust(wspace=0.8,hspace=0.8)\n",
    "plt.show()"
   ]
  },
  {
   "cell_type": "code",
   "execution_count": 41,
   "id": "bd6fe101-2145-4ed8-8dca-a8dfe191665f",
   "metadata": {},
   "outputs": [
    {
     "data": {
      "image/png": "[encoded data removed]",
      "text/plain": [
       "<Figure size 432x288 with 2 Axes>"
      ]
     },
     "metadata": {
      "needs_background": "light"
     },
     "output_type": "display_data"
    }
   ],
   "source": [
    "# Doing the above chart for Age now\n",
    "\n",
    "fig,(ax1,ax2)=plt.subplots(2,1)\n",
    "\n",
    "sns.distplot(df_train['male_age_mean'],ax=ax1)\n",
    "\n",
    "sns.distplot(df_train['female_age_mean'],ax=ax2)\n",
    "\n",
    "plt.subplots_adjust(wspace=0.8,hspace=0.8)\n",
    "\n",
    "plt.show()"
   ]
  },
  {
   "cell_type": "code",
   "execution_count": 42,
   "id": "f68bf9c6-c203-47f4-820b-ff742fa7780a",
   "metadata": {},
   "outputs": [],
   "source": [
    "# calculate population density\n",
    "# ALand - The square area of land at the geographic or track location. what is the area occupied at that geographic location.\n",
    "\n",
    "df_train['pop_density'] = df_train['pop']/df_train['ALand']"
   ]
  },
  {
   "cell_type": "code",
   "execution_count": 43,
   "id": "4b96b24a-7d34-4bc3-b149-422182899de7",
   "metadata": {},
   "outputs": [],
   "source": [
    "df_test['pop_density'] = df_test['pop']/df_test['ALand']"
   ]
  },
  {
   "cell_type": "code",
   "execution_count": 44,
   "id": "a209685e-f6ed-494b-a39f-4a737af43492",
   "metadata": {},
   "outputs": [
    {
     "data": {
      "image/png": "[encoded data removed]",
      "text/plain": [
       "<Figure size 432x288 with 1 Axes>"
      ]
     },
     "metadata": {
      "needs_background": "light"
     },
     "output_type": "display_data"
    }
   ],
   "source": [
    "# Analyse density is high or low?\n",
    "\n",
    "sns.distplot(df_train['pop_density'])\n",
    "plt.title('Population Density')\n",
    "plt.show()"
   ]
  },
  {
   "cell_type": "markdown",
   "id": "c5e47c9c-e17e-497c-88fc-bce36f594b4f",
   "metadata": {},
   "source": [
    "Population density is very less."
   ]
  },
  {
   "cell_type": "code",
   "execution_count": 45,
   "id": "2644b153-4b1c-4613-9c21-9e9decb53cbd",
   "metadata": {},
   "outputs": [],
   "source": [
    "# Use male_age_median, female_age_median, male_pop, and female_pop to create a new field called median age\n",
    "\n",
    "df_train['age_median'] = (df_train['male_age_median'] + df_train['female_age_median'])/2\n",
    "\n",
    "df_test['age_median'] = (df_test['male_age_median'] + df_test['female_age_median'])/2\n"
   ]
  },
  {
   "cell_type": "code",
   "execution_count": 46,
   "id": "ee7a5f22-c938-4930-9f72-eeb1671212b5",
   "metadata": {},
   "outputs": [
    {
     "data": {
      "text/html": [
       "<div>\n",
       "<style scoped>\n",
       "    .dataframe tbody tr th:only-of-type {\n",
       "        vertical-align: middle;\n",
       "    }\n",
       "\n",
       "    .dataframe tbody tr th {\n",
       "        vertical-align: top;\n",
       "    }\n",
       "\n",
       "    .dataframe thead th {\n",
       "        text-align: right;\n",
       "    }\n",
       "</style>\n",
       "<table border=\"1\" class=\"dataframe\">\n",
       "  <thead>\n",
       "    <tr style=\"text-align: right;\">\n",
       "      <th></th>\n",
       "      <th>male_age_median</th>\n",
       "      <th>female_age_median</th>\n",
       "      <th>male_pop</th>\n",
       "      <th>female_pop</th>\n",
       "      <th>age_median</th>\n",
       "    </tr>\n",
       "    <tr>\n",
       "      <th>UID</th>\n",
       "      <th></th>\n",
       "      <th></th>\n",
       "      <th></th>\n",
       "      <th></th>\n",
       "      <th></th>\n",
       "    </tr>\n",
       "  </thead>\n",
       "  <tbody>\n",
       "    <tr>\n",
       "      <th>267822</th>\n",
       "      <td>44.00000</td>\n",
       "      <td>45.33333</td>\n",
       "      <td>2612</td>\n",
       "      <td>2618</td>\n",
       "      <td>44.666665</td>\n",
       "    </tr>\n",
       "    <tr>\n",
       "      <th>246444</th>\n",
       "      <td>32.00000</td>\n",
       "      <td>37.58333</td>\n",
       "      <td>1349</td>\n",
       "      <td>1284</td>\n",
       "      <td>34.791665</td>\n",
       "    </tr>\n",
       "    <tr>\n",
       "      <th>245683</th>\n",
       "      <td>40.83333</td>\n",
       "      <td>42.83333</td>\n",
       "      <td>3643</td>\n",
       "      <td>3238</td>\n",
       "      <td>41.833330</td>\n",
       "    </tr>\n",
       "    <tr>\n",
       "      <th>279653</th>\n",
       "      <td>48.91667</td>\n",
       "      <td>50.58333</td>\n",
       "      <td>1141</td>\n",
       "      <td>1559</td>\n",
       "      <td>49.750000</td>\n",
       "    </tr>\n",
       "    <tr>\n",
       "      <th>247218</th>\n",
       "      <td>22.41667</td>\n",
       "      <td>21.58333</td>\n",
       "      <td>2586</td>\n",
       "      <td>3051</td>\n",
       "      <td>22.000000</td>\n",
       "    </tr>\n",
       "  </tbody>\n",
       "</table>\n",
       "</div>"
      ],
      "text/plain": [
       "        male_age_median  female_age_median  male_pop  female_pop  age_median\n",
       "UID                                                                         \n",
       "267822         44.00000           45.33333      2612        2618   44.666665\n",
       "246444         32.00000           37.58333      1349        1284   34.791665\n",
       "245683         40.83333           42.83333      3643        3238   41.833330\n",
       "279653         48.91667           50.58333      1141        1559   49.750000\n",
       "247218         22.41667           21.58333      2586        3051   22.000000"
      ]
     },
     "execution_count": 46,
     "metadata": {},
     "output_type": "execute_result"
    }
   ],
   "source": [
    "df_train[['male_age_median','female_age_median','male_pop','female_pop','age_median']].head()"
   ]
  },
  {
   "cell_type": "markdown",
   "id": "eb801233-7a9b-43a6-9009-5b1baf7593c4",
   "metadata": {},
   "source": [
    "### UID is like pincode here. It is the ID of the location.\n",
    "location where age median is high expenses would be more."
   ]
  },
  {
   "cell_type": "code",
   "execution_count": 47,
   "id": "91df190d-8d52-463d-945c-d00e6858ed44",
   "metadata": {},
   "outputs": [
    {
     "data": {
      "image/png": "[encoded data removed]",
      "text/plain": [
       "<Figure size 360x360 with 1 Axes>"
      ]
     },
     "metadata": {
      "needs_background": "light"
     },
     "output_type": "display_data"
    }
   ],
   "source": [
    "# Plotting chart for age median\n",
    "\n",
    "sns.displot(df_train['age_median'])\n",
    "plt.title('Median Age')\n",
    "plt.show()\n",
    "\n",
    "# Age of population is mostly between 20 and 60\n",
    "# Majority are of age around 40\n",
    "# Median age distribution has a gaussian distribution\n",
    "# Some right skewness is noticed"
   ]
  },
  {
   "cell_type": "markdown",
   "id": "71a96bb6-0172-4414-9ab0-b155edf89bed",
   "metadata": {
    "jp-MarkdownHeadingCollapsed": true,
    "tags": []
   },
   "source": [
    "## 6. Create bins for population into a new variable by selecting appropriate class interval so that the number of categories don’t exceed 5 for the ease of analysis."
   ]
  },
  {
   "cell_type": "code",
   "execution_count": 48,
   "id": "091febc1-823a-4f6f-91c4-86ebcfb753b5",
   "metadata": {},
   "outputs": [
    {
     "data": {
      "text/plain": [
       "count    27321.000000\n",
       "mean      4316.032685\n",
       "std       2169.226173\n",
       "min          0.000000\n",
       "25%       2885.000000\n",
       "50%       4042.000000\n",
       "75%       5430.000000\n",
       "max      53812.000000\n",
       "Name: pop, dtype: float64"
      ]
     },
     "execution_count": 48,
     "metadata": {},
     "output_type": "execute_result"
    }
   ],
   "source": [
    "df_train['pop'].describe()"
   ]
  },
  {
   "cell_type": "code",
   "execution_count": 49,
   "id": "f1f06424-f43f-4d2e-8054-7ab6fc047ba4",
   "metadata": {},
   "outputs": [],
   "source": [
    "df_train['pop_bins']=pd.cut(df_train['pop'],bins=5,labels=['very low','low','medium','high','very high'])"
   ]
  },
  {
   "cell_type": "code",
   "execution_count": 50,
   "id": "731674b0-a96b-407e-b1a1-e8a1895361c9",
   "metadata": {},
   "outputs": [
    {
     "data": {
      "text/html": [
       "<div>\n",
       "<style scoped>\n",
       "    .dataframe tbody tr th:only-of-type {\n",
       "        vertical-align: middle;\n",
       "    }\n",
       "\n",
       "    .dataframe tbody tr th {\n",
       "        vertical-align: top;\n",
       "    }\n",
       "\n",
       "    .dataframe thead th {\n",
       "        text-align: right;\n",
       "    }\n",
       "</style>\n",
       "<table border=\"1\" class=\"dataframe\">\n",
       "  <thead>\n",
       "    <tr style=\"text-align: right;\">\n",
       "      <th></th>\n",
       "      <th>pop</th>\n",
       "      <th>pop_bins</th>\n",
       "    </tr>\n",
       "    <tr>\n",
       "      <th>UID</th>\n",
       "      <th></th>\n",
       "      <th></th>\n",
       "    </tr>\n",
       "  </thead>\n",
       "  <tbody>\n",
       "    <tr>\n",
       "      <th>267822</th>\n",
       "      <td>5230</td>\n",
       "      <td>very low</td>\n",
       "    </tr>\n",
       "    <tr>\n",
       "      <th>246444</th>\n",
       "      <td>2633</td>\n",
       "      <td>very low</td>\n",
       "    </tr>\n",
       "    <tr>\n",
       "      <th>245683</th>\n",
       "      <td>6881</td>\n",
       "      <td>very low</td>\n",
       "    </tr>\n",
       "    <tr>\n",
       "      <th>279653</th>\n",
       "      <td>2700</td>\n",
       "      <td>very low</td>\n",
       "    </tr>\n",
       "    <tr>\n",
       "      <th>247218</th>\n",
       "      <td>5637</td>\n",
       "      <td>very low</td>\n",
       "    </tr>\n",
       "    <tr>\n",
       "      <th>...</th>\n",
       "      <td>...</td>\n",
       "      <td>...</td>\n",
       "    </tr>\n",
       "    <tr>\n",
       "      <th>279212</th>\n",
       "      <td>1847</td>\n",
       "      <td>very low</td>\n",
       "    </tr>\n",
       "    <tr>\n",
       "      <th>277856</th>\n",
       "      <td>4155</td>\n",
       "      <td>very low</td>\n",
       "    </tr>\n",
       "    <tr>\n",
       "      <th>233000</th>\n",
       "      <td>2829</td>\n",
       "      <td>very low</td>\n",
       "    </tr>\n",
       "    <tr>\n",
       "      <th>287425</th>\n",
       "      <td>11542</td>\n",
       "      <td>low</td>\n",
       "    </tr>\n",
       "    <tr>\n",
       "      <th>265371</th>\n",
       "      <td>3726</td>\n",
       "      <td>very low</td>\n",
       "    </tr>\n",
       "  </tbody>\n",
       "</table>\n",
       "<p>27321 rows × 2 columns</p>\n",
       "</div>"
      ],
      "text/plain": [
       "          pop  pop_bins\n",
       "UID                    \n",
       "267822   5230  very low\n",
       "246444   2633  very low\n",
       "245683   6881  very low\n",
       "279653   2700  very low\n",
       "247218   5637  very low\n",
       "...       ...       ...\n",
       "279212   1847  very low\n",
       "277856   4155  very low\n",
       "233000   2829  very low\n",
       "287425  11542       low\n",
       "265371   3726  very low\n",
       "\n",
       "[27321 rows x 2 columns]"
      ]
     },
     "execution_count": 50,
     "metadata": {},
     "output_type": "execute_result"
    }
   ],
   "source": [
    "df_train[['pop','pop_bins']]"
   ]
  },
  {
   "cell_type": "code",
   "execution_count": 51,
   "id": "34ebfae5-bcac-4b7d-8fb9-b350899095d3",
   "metadata": {},
   "outputs": [
    {
     "data": {
      "text/plain": [
       "very low     27058\n",
       "low            246\n",
       "medium           9\n",
       "high             7\n",
       "very high        1\n",
       "Name: pop_bins, dtype: int64"
      ]
     },
     "execution_count": 51,
     "metadata": {},
     "output_type": "execute_result"
    }
   ],
   "source": [
    "df_train['pop_bins'].value_counts()"
   ]
  },
  {
   "cell_type": "markdown",
   "id": "831364cb-9dd8-49fd-a723-660483079f53",
   "metadata": {},
   "source": [
    "### Analyze the married, separated, and divorced population for these population brackets. "
   ]
  },
  {
   "cell_type": "code",
   "execution_count": 52,
   "id": "d5b4ae64-e670-4627-8f70-7d954244d83a",
   "metadata": {},
   "outputs": [
    {
     "data": {
      "text/html": [
       "<div>\n",
       "<style scoped>\n",
       "    .dataframe tbody tr th:only-of-type {\n",
       "        vertical-align: middle;\n",
       "    }\n",
       "\n",
       "    .dataframe tbody tr th {\n",
       "        vertical-align: top;\n",
       "    }\n",
       "\n",
       "    .dataframe thead th {\n",
       "        text-align: right;\n",
       "    }\n",
       "</style>\n",
       "<table border=\"1\" class=\"dataframe\">\n",
       "  <thead>\n",
       "    <tr style=\"text-align: right;\">\n",
       "      <th></th>\n",
       "      <th>married</th>\n",
       "      <th>separated</th>\n",
       "      <th>divorced</th>\n",
       "    </tr>\n",
       "    <tr>\n",
       "      <th>pop_bins</th>\n",
       "      <th></th>\n",
       "      <th></th>\n",
       "      <th></th>\n",
       "    </tr>\n",
       "  </thead>\n",
       "  <tbody>\n",
       "    <tr>\n",
       "      <th>very low</th>\n",
       "      <td>27058</td>\n",
       "      <td>27058</td>\n",
       "      <td>27058</td>\n",
       "    </tr>\n",
       "    <tr>\n",
       "      <th>low</th>\n",
       "      <td>246</td>\n",
       "      <td>246</td>\n",
       "      <td>246</td>\n",
       "    </tr>\n",
       "    <tr>\n",
       "      <th>medium</th>\n",
       "      <td>9</td>\n",
       "      <td>9</td>\n",
       "      <td>9</td>\n",
       "    </tr>\n",
       "    <tr>\n",
       "      <th>high</th>\n",
       "      <td>7</td>\n",
       "      <td>7</td>\n",
       "      <td>7</td>\n",
       "    </tr>\n",
       "    <tr>\n",
       "      <th>very high</th>\n",
       "      <td>1</td>\n",
       "      <td>1</td>\n",
       "      <td>1</td>\n",
       "    </tr>\n",
       "  </tbody>\n",
       "</table>\n",
       "</div>"
      ],
      "text/plain": [
       "           married  separated  divorced\n",
       "pop_bins                               \n",
       "very low     27058      27058     27058\n",
       "low            246        246       246\n",
       "medium           9          9         9\n",
       "high             7          7         7\n",
       "very high        1          1         1"
      ]
     },
     "execution_count": 52,
     "metadata": {},
     "output_type": "execute_result"
    }
   ],
   "source": [
    "df_train.groupby(by='pop_bins')[['married','separated','divorced']].count()\n",
    "\n",
    "# but it's showing same numbers for each column so we nned to work with some aggregate function."
   ]
  },
  {
   "cell_type": "code",
   "execution_count": 53,
   "id": "f62e9433-a900-4487-bd13-ab56f2b8374e",
   "metadata": {},
   "outputs": [
    {
     "data": {
      "text/html": [
       "<div>\n",
       "<style scoped>\n",
       "    .dataframe tbody tr th:only-of-type {\n",
       "        vertical-align: middle;\n",
       "    }\n",
       "\n",
       "    .dataframe tbody tr th {\n",
       "        vertical-align: top;\n",
       "    }\n",
       "\n",
       "    .dataframe thead tr th {\n",
       "        text-align: left;\n",
       "    }\n",
       "\n",
       "    .dataframe thead tr:last-of-type th {\n",
       "        text-align: right;\n",
       "    }\n",
       "</style>\n",
       "<table border=\"1\" class=\"dataframe\">\n",
       "  <thead>\n",
       "    <tr>\n",
       "      <th></th>\n",
       "      <th colspan=\"2\" halign=\"left\">married</th>\n",
       "      <th colspan=\"2\" halign=\"left\">separated</th>\n",
       "      <th colspan=\"2\" halign=\"left\">divorced</th>\n",
       "    </tr>\n",
       "    <tr>\n",
       "      <th></th>\n",
       "      <th>mean</th>\n",
       "      <th>median</th>\n",
       "      <th>mean</th>\n",
       "      <th>median</th>\n",
       "      <th>mean</th>\n",
       "      <th>median</th>\n",
       "    </tr>\n",
       "    <tr>\n",
       "      <th>pop_bins</th>\n",
       "      <th></th>\n",
       "      <th></th>\n",
       "      <th></th>\n",
       "      <th></th>\n",
       "      <th></th>\n",
       "      <th></th>\n",
       "    </tr>\n",
       "  </thead>\n",
       "  <tbody>\n",
       "    <tr>\n",
       "      <th>very low</th>\n",
       "      <td>0.507548</td>\n",
       "      <td>0.524680</td>\n",
       "      <td>0.019126</td>\n",
       "      <td>0.013650</td>\n",
       "      <td>0.100504</td>\n",
       "      <td>0.096020</td>\n",
       "    </tr>\n",
       "    <tr>\n",
       "      <th>low</th>\n",
       "      <td>0.584894</td>\n",
       "      <td>0.593135</td>\n",
       "      <td>0.015833</td>\n",
       "      <td>0.011195</td>\n",
       "      <td>0.075348</td>\n",
       "      <td>0.070045</td>\n",
       "    </tr>\n",
       "    <tr>\n",
       "      <th>medium</th>\n",
       "      <td>0.655737</td>\n",
       "      <td>0.618710</td>\n",
       "      <td>0.005003</td>\n",
       "      <td>0.004120</td>\n",
       "      <td>0.065927</td>\n",
       "      <td>0.064890</td>\n",
       "    </tr>\n",
       "    <tr>\n",
       "      <th>high</th>\n",
       "      <td>0.503359</td>\n",
       "      <td>0.335660</td>\n",
       "      <td>0.008141</td>\n",
       "      <td>0.002500</td>\n",
       "      <td>0.039030</td>\n",
       "      <td>0.010320</td>\n",
       "    </tr>\n",
       "    <tr>\n",
       "      <th>very high</th>\n",
       "      <td>0.734740</td>\n",
       "      <td>0.734740</td>\n",
       "      <td>0.004050</td>\n",
       "      <td>0.004050</td>\n",
       "      <td>0.030360</td>\n",
       "      <td>0.030360</td>\n",
       "    </tr>\n",
       "  </tbody>\n",
       "</table>\n",
       "</div>"
      ],
      "text/plain": [
       "            married           separated            divorced          \n",
       "               mean    median      mean    median      mean    median\n",
       "pop_bins                                                             \n",
       "very low   0.507548  0.524680  0.019126  0.013650  0.100504  0.096020\n",
       "low        0.584894  0.593135  0.015833  0.011195  0.075348  0.070045\n",
       "medium     0.655737  0.618710  0.005003  0.004120  0.065927  0.064890\n",
       "high       0.503359  0.335660  0.008141  0.002500  0.039030  0.010320\n",
       "very high  0.734740  0.734740  0.004050  0.004050  0.030360  0.030360"
      ]
     },
     "execution_count": 53,
     "metadata": {},
     "output_type": "execute_result"
    }
   ],
   "source": [
    "df_train.groupby(by='pop_bins')[['married','separated','divorced']].agg([\"mean\", \"median\"])"
   ]
  },
  {
   "cell_type": "markdown",
   "id": "5e81bb41-698e-482e-b4cc-ae0dfd25b0fd",
   "metadata": {},
   "source": [
    "Very high population group has more married people and less percantage of separated and divorced couples. \n",
    "\n",
    "In very low population groups, there are more married people\n",
    "\n",
    "For all categories of divorced column, we can see that it is high for very low category. and it is very less in very high population bin."
   ]
  },
  {
   "cell_type": "markdown",
   "id": "f674967d-ea62-43b2-83b1-aab94e2dc8ba",
   "metadata": {
    "tags": []
   },
   "source": [
    "### Visualize using appropriate chart type"
   ]
  },
  {
   "cell_type": "code",
   "execution_count": 54,
   "id": "d65bfd3a-a6ff-4428-ab0f-c4e19ac6b4f0",
   "metadata": {},
   "outputs": [
    {
     "data": {
      "text/plain": [
       "<Figure size 720x360 with 0 Axes>"
      ]
     },
     "metadata": {},
     "output_type": "display_data"
    },
    {
     "data": {
      "image/png": "[encoded data removed]",
      "text/plain": [
       "<Figure size 432x288 with 1 Axes>"
      ]
     },
     "metadata": {
      "needs_background": "light"
     },
     "output_type": "display_data"
    }
   ],
   "source": [
    "# Creating a line chart\n",
    "\n",
    "plt.figure(figsize=(10,5))\n",
    "\n",
    "pop_bin=df_train.groupby(by='pop_bins')[['married','separated','divorced']].agg([\"mean\"])\n",
    "\n",
    "pop_bin.plot()\n",
    "\n",
    "plt.legend(loc='best')\n",
    "\n",
    "plt.show()"
   ]
  },
  {
   "cell_type": "markdown",
   "id": "b6077012-3f14-4071-a14e-75cf3204e256",
   "metadata": {
    "jp-MarkdownHeadingCollapsed": true,
    "tags": []
   },
   "source": [
    "## 7. Please detail your observations for rent as a percentage of income at an overall level, and for different states."
   ]
  },
  {
   "cell_type": "code",
   "execution_count": 55,
   "id": "3c31823b-dfaa-4eea-9af1-742fd4dbcfba",
   "metadata": {},
   "outputs": [
    {
     "data": {
      "text/html": [
       "<div>\n",
       "<style scoped>\n",
       "    .dataframe tbody tr th:only-of-type {\n",
       "        vertical-align: middle;\n",
       "    }\n",
       "\n",
       "    .dataframe tbody tr th {\n",
       "        vertical-align: top;\n",
       "    }\n",
       "\n",
       "    .dataframe thead th {\n",
       "        text-align: right;\n",
       "    }\n",
       "</style>\n",
       "<table border=\"1\" class=\"dataframe\">\n",
       "  <thead>\n",
       "    <tr style=\"text-align: right;\">\n",
       "      <th></th>\n",
       "      <th>mean</th>\n",
       "    </tr>\n",
       "    <tr>\n",
       "      <th>state</th>\n",
       "      <th></th>\n",
       "    </tr>\n",
       "  </thead>\n",
       "  <tbody>\n",
       "    <tr>\n",
       "      <th>Alabama</th>\n",
       "      <td>774.004927</td>\n",
       "    </tr>\n",
       "    <tr>\n",
       "      <th>Alaska</th>\n",
       "      <td>1185.763570</td>\n",
       "    </tr>\n",
       "    <tr>\n",
       "      <th>Arizona</th>\n",
       "      <td>1097.753511</td>\n",
       "    </tr>\n",
       "    <tr>\n",
       "      <th>Arkansas</th>\n",
       "      <td>720.918575</td>\n",
       "    </tr>\n",
       "    <tr>\n",
       "      <th>California</th>\n",
       "      <td>1471.133857</td>\n",
       "    </tr>\n",
       "  </tbody>\n",
       "</table>\n",
       "</div>"
      ],
      "text/plain": [
       "                   mean\n",
       "state                  \n",
       "Alabama      774.004927\n",
       "Alaska      1185.763570\n",
       "Arizona     1097.753511\n",
       "Arkansas     720.918575\n",
       "California  1471.133857"
      ]
     },
     "execution_count": 55,
     "metadata": {},
     "output_type": "execute_result"
    }
   ],
   "source": [
    "# State-wise rent mean\n",
    "\n",
    "rent_state_mean=df_train.groupby(by='state')['rent_mean'].agg([\"mean\"])\n",
    "rent_state_mean.head()"
   ]
  },
  {
   "cell_type": "code",
   "execution_count": 56,
   "id": "eb7cc13e-b3f2-4955-9e2b-50bf2d00e49b",
   "metadata": {},
   "outputs": [
    {
     "data": {
      "text/html": [
       "<div>\n",
       "<style scoped>\n",
       "    .dataframe tbody tr th:only-of-type {\n",
       "        vertical-align: middle;\n",
       "    }\n",
       "\n",
       "    .dataframe tbody tr th {\n",
       "        vertical-align: top;\n",
       "    }\n",
       "\n",
       "    .dataframe thead th {\n",
       "        text-align: right;\n",
       "    }\n",
       "</style>\n",
       "<table border=\"1\" class=\"dataframe\">\n",
       "  <thead>\n",
       "    <tr style=\"text-align: right;\">\n",
       "      <th></th>\n",
       "      <th>mean</th>\n",
       "    </tr>\n",
       "    <tr>\n",
       "      <th>state</th>\n",
       "      <th></th>\n",
       "    </tr>\n",
       "  </thead>\n",
       "  <tbody>\n",
       "    <tr>\n",
       "      <th>Alabama</th>\n",
       "      <td>67030.064213</td>\n",
       "    </tr>\n",
       "    <tr>\n",
       "      <th>Alaska</th>\n",
       "      <td>92136.545109</td>\n",
       "    </tr>\n",
       "    <tr>\n",
       "      <th>Arizona</th>\n",
       "      <td>73328.238798</td>\n",
       "    </tr>\n",
       "    <tr>\n",
       "      <th>Arkansas</th>\n",
       "      <td>64765.377850</td>\n",
       "    </tr>\n",
       "    <tr>\n",
       "      <th>California</th>\n",
       "      <td>87655.470820</td>\n",
       "    </tr>\n",
       "  </tbody>\n",
       "</table>\n",
       "</div>"
      ],
      "text/plain": [
       "                    mean\n",
       "state                   \n",
       "Alabama     67030.064213\n",
       "Alaska      92136.545109\n",
       "Arizona     73328.238798\n",
       "Arkansas    64765.377850\n",
       "California  87655.470820"
      ]
     },
     "execution_count": 56,
     "metadata": {},
     "output_type": "execute_result"
    }
   ],
   "source": [
    "# State-wise income mean\n",
    "\n",
    "income_state_mean=df_train.groupby(by='state')['family_mean'].agg([\"mean\"])\n",
    "income_state_mean.head()"
   ]
  },
  {
   "cell_type": "code",
   "execution_count": 57,
   "id": "f66a8e01-ecf4-4296-a705-d7a0105972a9",
   "metadata": {},
   "outputs": [
    {
     "data": {
      "text/plain": [
       "state\n",
       "Alabama       1.154713\n",
       "Alaska        1.286963\n",
       "Arizona       1.497041\n",
       "Arkansas      1.113123\n",
       "California    1.678314\n",
       "Name: mean, dtype: float64"
      ]
     },
     "execution_count": 57,
     "metadata": {},
     "output_type": "execute_result"
    }
   ],
   "source": [
    "# rent as a percentage of income for different states\n",
    "\n",
    "rent_perc_of_income=(rent_state_mean['mean']/income_state_mean['mean'])*100\n",
    "rent_perc_of_income.head(5)"
   ]
  },
  {
   "cell_type": "code",
   "execution_count": 58,
   "id": "c0d3114a-a720-4c14-9552-32d085d69171",
   "metadata": {},
   "outputs": [
    {
     "data": {
      "text/plain": [
       "1.3358170721473863"
      ]
     },
     "execution_count": 58,
     "metadata": {},
     "output_type": "execute_result"
    }
   ],
   "source": [
    "# rent as a percentage of income at an overall level\n",
    "\n",
    "(sum(df_train['rent_mean'])/sum(df_train['family_mean']))*100"
   ]
  },
  {
   "cell_type": "markdown",
   "id": "fe75e58a-70a9-487e-a446-93df065e396c",
   "metadata": {},
   "source": [
    "### Overall Rent as a percentage of Overall House Hold Income is around 1.33%"
   ]
  },
  {
   "cell_type": "markdown",
   "id": "9f11bf40-75d0-47df-a5b1-4c3cb81ae41b",
   "metadata": {},
   "source": [
    "## 8. Perform correlation analysis for all the relevant variables by creating a heatmap. Describe your findings."
   ]
  },
  {
   "cell_type": "code",
   "execution_count": 59,
   "id": "4977a97f-81b7-4fbc-b641-1475e1f7cf4a",
   "metadata": {},
   "outputs": [
    {
     "data": {
      "image/png": "[encoded data removed]",
      "text/plain": [
       "<Figure size 1224x504 with 2 Axes>"
      ]
     },
     "metadata": {
      "needs_background": "light"
     },
     "output_type": "display_data"
    }
   ],
   "source": [
    "plt.figure(figsize=(17,7))\n",
    "sns.heatmap(data=df_train[['hc_mortgage_mean','ALand','pop','rent_mean','hi_mean','hc_mean','family_mean',\n",
    "                           'hs_degree','debt','home_equity']].corr(),annot=True, cmap='coolwarm')\n",
    "plt.show()"
   ]
  },
  {
   "cell_type": "markdown",
   "id": "68ece20b-daef-4ac1-adab-49eed8241fcc",
   "metadata": {},
   "source": [
    "Household Income mean and family income mean are highly positively correlated.\n",
    "\"Family Income\" and \"hc_mortgage\" are positively correlated.\n"
   ]
  },
  {
   "cell_type": "code",
   "execution_count": null,
   "id": "3f3935bd-8c26-49e7-baf1-caaeca3f0901",
   "metadata": {},
   "outputs": [],
   "source": []
  },
  {
   "cell_type": "code",
   "execution_count": null,
   "id": "f4921253-972d-41ec-9009-49bfb5c3b0a3",
   "metadata": {},
   "outputs": [],
   "source": []
  }
 ],
 "metadata": {
  "kernelspec": {
   "display_name": "Python 3 [3.10]",
   "language": "python",
   "name": "python3"
  },
  "language_info": {
   "codemirror_mode": {
    "name": "ipython",
    "version": 3
   },
   "file_extension": ".py",
   "mimetype": "text/x-python",
   "name": "python",
   "nbconvert_exporter": "python",
   "pygments_lexer": "ipython3",
   "version": "3.10.2"
  }
 },
 "nbformat": 4,
 "nbformat_minor": 5
}
